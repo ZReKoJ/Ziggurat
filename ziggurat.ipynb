{
 "cells": [
  {
   "cell_type": "markdown",
   "metadata": {
    "slideshow": {
     "slide_type": "slide"
    }
   },
   "source": [
    "# Método de Simulación\n",
    "\n",
    "### Grupo 8\n",
    "\n",
    "- Javier Darna Sequeiros\n",
    "- Tingyun Wei\n",
    "- Zihao Hong\n",
    "\n",
    "*Máster Universitario en Inteligencia Artificial*"
   ]
  },
  {
   "cell_type": "code",
   "execution_count": 1,
   "metadata": {
    "slideshow": {
     "slide_type": "skip"
    }
   },
   "outputs": [],
   "source": [
    "# imports\n",
    "import matplotlib.pyplot as plt\n",
    "import matplotlib.patches as patches\n",
    "import numpy as np\n",
    "from scipy.integrate import quad\n",
    "import pandas as pd\n",
    "from IPython.display import Image\n",
    "\n",
    "import zignor\n",
    "\n",
    "import random\n",
    "from scipy import stats\n",
    "from scipy.stats import poisson, norm, chi2, expon, uniform\n",
    "from enum import Enum\n",
    "\n",
    "import logging"
   ]
  },
  {
   "cell_type": "markdown",
   "metadata": {
    "slideshow": {
     "slide_type": "slide"
    }
   },
   "source": [
    "### 1. Generación de números y variables aleatorias\n",
    "Describir el algoritmo de Ziggurat para\tdistribuciones con función de densidad decreciente y compararlo\tcon\totros métodos para la generación de\tvalores\tde la normal"
   ]
  },
  {
   "cell_type": "markdown",
   "metadata": {
    "slideshow": {
     "slide_type": "subslide"
    }
   },
   "source": [
    "El **algoritmo de Ziggurat** es un método para generar valores aleatorios a partir de una función de densidad monótona decreciente, como la de la distribución exponencial. Sin embargo también se puede aplicar a distribuciones unimodales simétricas, como la distribución normal, generando un valor para la mitad decreciente de la función y  eligiendo aleatoriamente su signo.  \n",
    "\n",
    "Su nombre proviene de unos templos construidos en la antigua Mesopotamia. Durante el algoritmo, se genera un conjunto de rectángulos \"*apilados*\" que recordaron a su autor a esta estructura.\n",
    "\n",
    "<img src=\"docs/images/ziggurat.png\" width=\"300\" height=\"300\">"
   ]
  },
  {
   "cell_type": "markdown",
   "metadata": {
    "slideshow": {
     "slide_type": "subslide"
    }
   },
   "source": [
    "Este algoritmo está basado el método de rechazo:  \n",
    "\n",
    "> Primero, generamos puntos aleatorios dentro del rectángulo azul siguiendo una distribución uniforme y luego descartamos  todos los puntos que han quedado por encima de la curva de la distribución, es decir aquellos puntos ($x_{n}$, $y_{n}$) tales que $y_{n}$ > $f(x)$, siendo $f(x)$ la función de distribución de la que queremos generar valores. Posteriormente tomamos la coordenada *x* de cada uno de los puntos restantes, obteniendo así los números.  \n",
    "\n",
    "La eficiencia de este método suele ser baja porque muchos puntos generados acaban siendo descartados.\n",
    "\n",
    "<img src=\"docs/images/1.png\" width=\"300\" height=\"300\">"
   ]
  },
  {
   "cell_type": "markdown",
   "metadata": {
    "slideshow": {
     "slide_type": "subslide"
    }
   },
   "source": [
    "Si pudiéramos modificar el área de generación de puntos de forma que sea lo más parecida posible, y esta es la idea básica del algoritmo de Ziggurat. Específicamente, el algoritmo de Ziggurat funciona de la siguiente manera:\n",
    "\n",
    "> Dada una función de densidad de probabilidad decreciente $f(x)$, definida para todo $x ≥ 0$, definimos la base del Ziggurat como el conjunto de puntos dentro de la distribución.  \n",
    "\n",
    "> En primer lugar, dividimos el área debajo de la curva en $n-1$ rectángulos y una cola. Siendo $z_k (k=0,1,...,n-1)$ una sucesión creciente tal que $z_0=0$, formamos el rectángulo $m=1,2,…,n-1$ tomando como esquina superior izquierda el punto $(0,f(z_(m-1) ))$ y como esquina inferior derecha el punto $(z_m,f(z_m ))$, y finalmente definimos la cola como los puntos bajo la curva con ordenada inferior a $f(z_{n-1})$. Los $z_k$ se eligen de forma que las n regiones tengan la misma área. Para generar números elegimos uniformemente una de las regiones y aplicamos el método del rechazo en esa región.  \n",
    "\n",
    "> En la figura 2, se toma $n=8$, pero en la práctica n puede alcanzar 64, 128 o 256. Llamamos a la parte que se superpone al rectángulo superior en la dirección de la longitud región central del rectángulo actual. El rectángulo superior no tiene región central. \n",
    "\n",
    "<img src=\"docs/images/2.png\" width=\"300\" height=\"300\">"
   ]
  },
  {
   "cell_type": "markdown",
   "metadata": {
    "slideshow": {
     "slide_type": "subslide"
    }
   },
   "source": [
    "**Inicialización**\n",
    "\n",
    "Para un número especificado n de secciones, podemos resolver numéricamente una ecuación trascendente para encontrar $z_(n-1)$, el punto donde la cola infinita se encuentra con la última sección rectangular. Una vez conocemos $z_n$, podemos calcular el área común de las secciones y los otros puntos $z_k$.  También es posible dividir los rectángulos en dos porciones horizontalmente: la porción (generalmente más grande) de $0$ a $z_(k-1)$ que está completamente contenida dentro de la distribución deseada y llamamos porción central del Ziggurat, y la porción (pequeña) de $z_(k-1)$ a $z_k$, que está solo parcialmente contenida. De esta manera, se puede calcular $σ_k=z_(k-1)/z_k$, que es la fracción de las longitudes de las dos capas de rectángulos adyacentes en dirección horizontal. El borde derecho de la porción central es la línea de puntos en nuestra figura. El rectángulo superior no tiene región central y $σ_1=0$.\n",
    "\n",
    "El cálculo de los $z_k$ y $σ$ solo necesita realizarse una vez en la inicialización."
   ]
  },
  {
   "cell_type": "markdown",
   "metadata": {
    "slideshow": {
     "slide_type": "subslide"
    }
   },
   "source": [
    "**Algoritmo**\n",
    "\n",
    "Una vez realizada la inicialización, los números aleatorios se pueden generar rápidamente. Calculamos un entero aleatorio $j$, entre $1$ y $n$, con distribución uniforme para elegir una región y un número real aleatorio $u$, distribuido uniformemente entre $−1$ y $1$. Luego comprobamos para ver si $u<σ_j$, es decir si $u$ cae en la porción central de la sección $j$. Si es así, entonces sabemos que $u*z_j$ es la coordenada $x$ de un punto debajo de la función de densidad de probabilidad y este valor se puede devolver como una muestra de la distribución. El pseudocódigo resultante sería el siguiente:\n",
    "\n",
    " j = randint(1,n);\n",
    "  \tu = 2*rand()-1;\n",
    "  \tif u < sigma[j]\n",
    "     \t\tr = u*z[j];\n",
    "  \tend\n",
    "\n",
    "En el pseudo código anterior, la condición $u < sigma[j]$ se considera verdadera en la mayoría de los casos, y en caso contrario habría que realizar operaciones adicionales. Específicamente, hay tres casos posibles en los que la condición no se cumple: \n",
    "\n",
    "> 1. $j=1$, ya que el rectángulo superior no tiene porción central;  \n",
    "2. $2≤j≤(n-1)$ y $u*z_j$ cae fuera de la porción central (es decir, en el pequeño rectángulo que contiene la curva en el lado derecho);   \n",
    "3. $j=n$, $u*z_j$ cae en la cola fuera de la porción central inferior. \n",
    "\n",
    "En estos tres casos, es necesario realizar operaciones adicionales basadas en el **algoritmo de Box-Muller** utilizando los números aleatorios distribuidos uniformemente que se han generado para generar un número aleatorio según la distribución. Es fácil ver que cuanto mayor sea $n$, menos probable será la ocurrencia de estos tres casos que requieran operaciones adicionales. Según los datos proporcionados en el libro *Numerical Computing with MATLAB*, cuando $n=128$, la probabilidad de requerir operaciones adicionales es inferior al 3%, por lo que esta operación adicional tiene poco efecto sobre la eficiencia general del algoritmo de Ziggurat.\n"
   ]
  },
  {
   "cell_type": "markdown",
   "metadata": {
    "slideshow": {
     "slide_type": "subslide"
    }
   },
   "source": [
    "#### Comparación con otros métodos:\n",
    "\n",
    "**Método de rechazo**: La idea es simple y fácil de implementar, pero puede ser muy ineficiente por dos motivos:\n",
    "1. Se rechaza una gran proporción de muestras.  \n",
    "2. Se debe evaluar f(x) para cada punto candidato, lo cual es computacionalmente costoso para muchas funciones de distribución de probabilidad.\n",
    "\n",
    "**Método de inversión**: Es más complejo, usando directamente la función inversa de la función de distribución acumulativa (FDA) para generar números aleatorios. Además el cálculo implica una función de error más compleja que puede ser no primaria.\n",
    "\n",
    "**Box-Muller**: Ha sido un algoritmo muy utilizado para generar números aleatorios durante mucho tiempo. El algoritmo Box-Muller se caracteriza por una alta eficiencia y un proceso de cálculo relativamente simple (solo se utilizan funciones elementales), que requieren al menos un logaritmo y un cálculo de raíz cuadrada para los valores generados.\n",
    "\n",
    "**El algoritmo de Ziggurat**: Es muy eficiente y utilizado por muchos lenguajes de programación modernos. El algoritmo de Ziggurat es en realidad una versión mejorada del método de rechazo. Solo requiere generar aleatoriamente un entero y un real, seguido por una comparación, una operación de multiplicación y una búsqueda en una tabla para obtener un número aleatorio que obedezca a la distribución normal. En todo el proceso, no hay operaciones complicadas, como raíces cuadradas, logaritmos o funciones trigonométricas, al menos en la mayoría de los casos. Sin embargo, dado que el algoritmo de Ziggurat es más complejo de implementar, es mejor usarlo cuando se requieren grandes cantidades de números aleatorios.\n",
    "\n"
   ]
  },
  {
   "cell_type": "markdown",
   "metadata": {
    "slideshow": {
     "slide_type": "slide"
    }
   },
   "source": [
    "#### Creación de la tabla la distribución normal estándar\n",
    "\n",
    "Utilizando el algoritmo\tde Ziggurat obtener\tuna\taproximación de\tla tabla de\tla tabla de\tla distribución normal estándar.\t"
   ]
  },
  {
   "cell_type": "markdown",
   "metadata": {
    "slideshow": {
     "slide_type": "subslide"
    }
   },
   "source": [
    "Para poder entender de dónde provienen los valores de la tabla, es importante saber acerca de la función de densidad de probabilidad (FDP). Se utiliza esta FDP para especificar la probabilidad de que una variable aleatoria caiga dentro de un rango particular de valores, en lugar de tomar cualquier valor. Esta probabilidad viene dada por la integral de la FDP de la variable sobre el rango. La siguiente ecuación es la función de densidad de probabilidad para una distribución normal $N(μ,σ^2)$.\n",
    " $f(x|\\mu,\\sigma^2) = \\frac{1}{ \\sqrt{(2 \\pi \\sigma^2}} \\, e^{-\\frac{(x-\\mu^2)}{2 \\sigma^2}}$ \n",
    " \n",
    " La cual podemos simplificar tomando la distribución normal estándar de media (μ) 0 y desviación estándar (σ) 1.\n",
    " $f(x) = \\frac{1}{ \\sqrt{(2 \\pi}} \\, e^{-\\frac{(x^2)}{2}}$"
   ]
  },
  {
   "cell_type": "code",
   "execution_count": 2,
   "metadata": {
    "slideshow": {
     "slide_type": "skip"
    }
   },
   "outputs": [],
   "source": [
    "def pdf_standard_normal_distribution(x):\n",
    "    return (1 / (np.sqrt(2 * np.pi))) * np.exp((x ** 2) / -2)"
   ]
  },
  {
   "cell_type": "code",
   "execution_count": 3,
   "metadata": {
    "slideshow": {
     "slide_type": "subslide"
    }
   },
   "outputs": [
    {
     "data": {
      "image/png": "[encoded data removed]",
      "text/plain": [
       "<Figure size 1440x720 with 1 Axes>"
      ]
     },
     "metadata": {
      "needs_background": "light"
     },
     "output_type": "display_data"
    }
   ],
   "source": [
    "DOMAIN = 5\n",
    "N = 100\n",
    "TITLE_SIZE = 30\n",
    "FIGURE_SIZE = (20, 10)\n",
    "\n",
    "domain = np.linspace(-DOMAIN, DOMAIN, N) # return a domain from [0, 1] in 100 parts\n",
    "\n",
    "fig, ax = plt.subplots(figsize=(FIGURE_SIZE[0], FIGURE_SIZE[1]));\n",
    "\n",
    "# config\n",
    "ax.set_title('Normal Distribution', size = TITLE_SIZE);\n",
    "ax.set_ylabel('Probability Density', size = TITLE_SIZE);\n",
    "\n",
    "ax.plot(domain, list( # domain is the x axis and the rest y axis\n",
    "    map(\n",
    "        lambda x: pdf_standard_normal_distribution(x), \n",
    "        domain\n",
    "    )\n",
    "), color = 'b')\n",
    "\n",
    "plt.show()"
   ]
  },
  {
   "cell_type": "markdown",
   "metadata": {
    "slideshow": {
     "slide_type": "subslide"
    }
   },
   "source": [
    "La tabla de la normal estándar contiene los datos de la probabilidad de un evento dentro del intervalo $[0, z]$, es decir, el área bajo la curva normal estándar entre $0$ y $z$. El gráfico anterior no muestra la probabilidad de eventos, sino su densidad de probabilidad. Para encontrar el área, necesita integrarse. La integración del FDP proporciona una función de distribución acumulativa (FDA), que asigna valores a su rango de percentil en una distribución. Los valores de la tabla se calculan utilizando la función de distribución acumulativa de una distribución normal estándar con media 0 y desviación estándar 1. Esto se puede denotar con la siguiente ecuación.  \n",
    "  \n",
    "$\\int_{0}^{z}{\\frac{1}{2\\pi}}e^{\\frac{-x^2}{2}}dx$"
   ]
  },
  {
   "cell_type": "markdown",
   "metadata": {
    "slideshow": {
     "slide_type": "subslide"
    }
   },
   "source": [
    "En esta práctica vamos a utilizar el algoritmo de Ziggurat para crear la tabla. El primer paso es generar $n$ números aleatorios según la distribución normal utilizando el algoritmo. En nuestro caso, generamos 10000, cambiamos su signo aleatoriamente y los truncamos a 2 decimales. Después, establecemos un contador para calcular la acumulación de cada valor del número aleatorio y lo normalizamos. De esta manera, obtenemos la frecuencia de cada valor, la cual usamos como aproximación del valor correspondiente de la función de densidad. \n",
    "\n",
    "Con el objetivo de obtener la probabilidad acumulada dentro de un rango desde 0 hasta un valor $z$ del numero aleatorio, se suman todas las frecuencias calculadas de los valores de los números menores que $z$. En esta práctica, se han generado las 10 primeras filas de la tabla, es decir, se han calculado las probabilidades acumuladas de los valores $z$ desde 0 hasta 0.99. No se muestran las probabilidades para los $z$ negativos ya que $F(-z)=1-F(z)$."
   ]
  },
  {
   "cell_type": "code",
   "execution_count": 4,
   "metadata": {
    "scrolled": true,
    "slideshow": {
     "slide_type": "skip"
    }
   },
   "outputs": [
    {
     "data": {
      "image/png": "[encoded data removed]",
      "text/plain": [
       "<Figure size 1440x720 with 1 Axes>"
      ]
     },
     "metadata": {
      "needs_background": "light"
     },
     "output_type": "display_data"
    }
   ],
   "source": [
    "DOMAIN = 3\n",
    "N = 100\n",
    "POINT_SIZE = 50\n",
    "TITLE_SIZE = 30\n",
    "FIGURE_SIZE = (20, 10)\n",
    "\n",
    "domain = np.linspace(0, DOMAIN, N) # return a domain from [0, 1] in 100 parts\n",
    "\n",
    "divisions = [0, 0.8288, 1.1713, 1.4696, 1.7819, 2.1761]\n",
    "\n",
    "fig, ax = plt.subplots(figsize=(FIGURE_SIZE[0], FIGURE_SIZE[1]));\n",
    "\n",
    "# config\n",
    "ax.set_title('Normal Distribution', size = TITLE_SIZE);\n",
    "ax.set_ylabel('Probability Density', size = TITLE_SIZE);\n",
    "\n",
    "ax.plot(domain, list( # domain is the x axis and the rest y axis\n",
    "    map(\n",
    "        lambda x: pdf_standard_normal_distribution(x), \n",
    "        domain\n",
    "    )\n",
    "), color = 'b')\n",
    "currentAxis = plt.gca()\n",
    "\n",
    "for i in range(1, len(divisions)):\n",
    "    y = pdf_standard_normal_distribution(divisions[i]) # calculate its y axis value\n",
    "    y_prev = pdf_standard_normal_distribution(divisions[i - 1]) # calculate divisions i - 1 y axis value\n",
    "    \n",
    "    plt.scatter(divisions[i], y, s = POINT_SIZE) # draw point s is size\n",
    "    rect = patches.Rectangle((0, y), divisions[i], y_prev - y, linewidth = 1, edgecolor = 'r', fill = None) # draw rectangle\n",
    "    plt.plot([divisions[i - 1], divisions[i - 1]], [y_prev, y], color = '#BF7EBE', linewidth = 2, linestyle = 'dashed') # draw lines\n",
    "    \n",
    "    currentAxis.add_patch(rect) # add rectangle\n",
    "\n",
    "plt.show()\n",
    "plt.close()"
   ]
  },
  {
   "cell_type": "code",
   "execution_count": 5,
   "metadata": {
    "slideshow": {
     "slide_type": "subslide"
    }
   },
   "outputs": [
    {
     "data": {
      "image/png": "[encoded data removed]",
      "text/plain": [
       "<Figure size 432x288 with 1 Axes>"
      ]
     },
     "metadata": {
      "needs_background": "light"
     },
     "output_type": "display_data"
    }
   ],
   "source": [
    "bins = 50\n",
    "N = 10000\n",
    "\n",
    "random_numbers = zignor.randn(N)\n",
    "\n",
    "plt.figure()\n",
    "hist, bin_edges = np.histogram( random_numbers, bins )\n",
    "histNorm = hist / 1500 #TODO: encontrar una forma de calcular este 1500\n",
    "plt.plot( bin_edges[:-1], histNorm )\n",
    "plt.plot( bin_edges[:-1],\n",
    "          [pdf_standard_normal_distribution(x) for x in bin_edges[:-1]],\n",
    "          color = 'r' )\n",
    "plt.show()"
   ]
  },
  {
   "cell_type": "code",
   "execution_count": 6,
   "metadata": {
    "slideshow": {
     "slide_type": "subslide"
    }
   },
   "outputs": [
    {
     "data": {
      "image/png": "[encoded data removed]",
      "text/plain": [
       "<Figure size 1440x720 with 1 Axes>"
      ]
     },
     "metadata": {
      "needs_background": "light"
     },
     "output_type": "display_data"
    }
   ],
   "source": [
    "POINT_SIZE = 50\n",
    "N = 10000\n",
    "\n",
    "random_numbers = zignor.randn(N)\n",
    "\n",
    "counter = {}\n",
    "for rand in random_numbers:\n",
    "    round_rand_number = np.round(rand, 2) # round the number to 2 decimals\n",
    "    counter[round_rand_number] = counter.get(round_rand_number, 0) + 1\n",
    "    \n",
    "x_axis = sorted(list(counter.keys()))\n",
    "y_axis = list(map(lambda x : counter[x] / N * 100, x_axis))\n",
    "\n",
    "domain = np.linspace(-max(x_axis), max(x_axis), N)\n",
    "\n",
    "fig, ax = plt.subplots(figsize = (FIGURE_SIZE[0], FIGURE_SIZE[1]));\n",
    "\n",
    "ax.plot(x_axis, y_axis, color = 'b')\n",
    "\n",
    "ax.plot(domain, list( # domain is the x axis and the rest y axis\n",
    "    map(\n",
    "        lambda x: pdf_standard_normal_distribution(x), \n",
    "        domain\n",
    "    )\n",
    "), color = 'r', linewidth = 5)\n",
    "\n",
    "plt.show()"
   ]
  },
  {
   "cell_type": "code",
   "execution_count": 7,
   "metadata": {
    "slideshow": {
     "slide_type": "subslide"
    }
   },
   "outputs": [
    {
     "data": {
      "text/html": [
       "<div>\n",
       "<style scoped>\n",
       "    .dataframe tbody tr th:only-of-type {\n",
       "        vertical-align: middle;\n",
       "    }\n",
       "\n",
       "    .dataframe tbody tr th {\n",
       "        vertical-align: top;\n",
       "    }\n",
       "\n",
       "    .dataframe thead th {\n",
       "        text-align: right;\n",
       "    }\n",
       "</style>\n",
       "<table border=\"1\" class=\"dataframe\">\n",
       "  <thead>\n",
       "    <tr style=\"text-align: right;\">\n",
       "      <th></th>\n",
       "      <th>0.00</th>\n",
       "      <th>0.01</th>\n",
       "      <th>0.02</th>\n",
       "      <th>0.03</th>\n",
       "      <th>0.04</th>\n",
       "      <th>0.05</th>\n",
       "      <th>0.06</th>\n",
       "      <th>0.07</th>\n",
       "      <th>0.08</th>\n",
       "      <th>0.09</th>\n",
       "    </tr>\n",
       "  </thead>\n",
       "  <tbody>\n",
       "    <tr>\n",
       "      <th>0.0</th>\n",
       "      <td>0.4942</td>\n",
       "      <td>0.4973</td>\n",
       "      <td>0.5026</td>\n",
       "      <td>0.5073</td>\n",
       "      <td>0.5116</td>\n",
       "      <td>0.5149</td>\n",
       "      <td>0.5184</td>\n",
       "      <td>0.5227</td>\n",
       "      <td>0.526</td>\n",
       "      <td>0.5294</td>\n",
       "    </tr>\n",
       "    <tr>\n",
       "      <th>0.1</th>\n",
       "      <td>0.5335</td>\n",
       "      <td>0.5381</td>\n",
       "      <td>0.5412</td>\n",
       "      <td>0.5448</td>\n",
       "      <td>0.5485</td>\n",
       "      <td>0.5533</td>\n",
       "      <td>0.5568</td>\n",
       "      <td>0.5604</td>\n",
       "      <td>0.565</td>\n",
       "      <td>0.5701</td>\n",
       "    </tr>\n",
       "    <tr>\n",
       "      <th>0.2</th>\n",
       "      <td>0.5741</td>\n",
       "      <td>0.5776</td>\n",
       "      <td>0.5826</td>\n",
       "      <td>0.5871</td>\n",
       "      <td>0.5897</td>\n",
       "      <td>0.5931</td>\n",
       "      <td>0.5969</td>\n",
       "      <td>0.5998</td>\n",
       "      <td>0.6042</td>\n",
       "      <td>0.6077</td>\n",
       "    </tr>\n",
       "    <tr>\n",
       "      <th>0.3</th>\n",
       "      <td>0.6117</td>\n",
       "      <td>0.615</td>\n",
       "      <td>0.6187</td>\n",
       "      <td>0.623</td>\n",
       "      <td>0.6263</td>\n",
       "      <td>0.6299</td>\n",
       "      <td>0.6332</td>\n",
       "      <td>0.6377</td>\n",
       "      <td>0.6423</td>\n",
       "      <td>0.6448</td>\n",
       "    </tr>\n",
       "    <tr>\n",
       "      <th>0.4</th>\n",
       "      <td>0.6489</td>\n",
       "      <td>0.6523</td>\n",
       "      <td>0.6565</td>\n",
       "      <td>0.6601</td>\n",
       "      <td>0.6635</td>\n",
       "      <td>0.6671</td>\n",
       "      <td>0.6712</td>\n",
       "      <td>0.6744</td>\n",
       "      <td>0.6779</td>\n",
       "      <td>0.6824</td>\n",
       "    </tr>\n",
       "    <tr>\n",
       "      <th>0.5</th>\n",
       "      <td>0.6856</td>\n",
       "      <td>0.6894</td>\n",
       "      <td>0.6934</td>\n",
       "      <td>0.6961</td>\n",
       "      <td>0.7002</td>\n",
       "      <td>0.7039</td>\n",
       "      <td>0.7065</td>\n",
       "      <td>0.7096</td>\n",
       "      <td>0.7135</td>\n",
       "      <td>0.7155</td>\n",
       "    </tr>\n",
       "    <tr>\n",
       "      <th>0.6</th>\n",
       "      <td>0.7184</td>\n",
       "      <td>0.7218</td>\n",
       "      <td>0.7252</td>\n",
       "      <td>0.7287</td>\n",
       "      <td>0.7321</td>\n",
       "      <td>0.735</td>\n",
       "      <td>0.739</td>\n",
       "      <td>0.7438</td>\n",
       "      <td>0.7464</td>\n",
       "      <td>0.7499</td>\n",
       "    </tr>\n",
       "    <tr>\n",
       "      <th>0.7</th>\n",
       "      <td>0.7535</td>\n",
       "      <td>0.7565</td>\n",
       "      <td>0.7588</td>\n",
       "      <td>0.7627</td>\n",
       "      <td>0.7659</td>\n",
       "      <td>0.7693</td>\n",
       "      <td>0.773</td>\n",
       "      <td>0.7749</td>\n",
       "      <td>0.777</td>\n",
       "      <td>0.779</td>\n",
       "    </tr>\n",
       "    <tr>\n",
       "      <th>0.8</th>\n",
       "      <td>0.7821</td>\n",
       "      <td>0.7855</td>\n",
       "      <td>0.7886</td>\n",
       "      <td>0.7911</td>\n",
       "      <td>0.7946</td>\n",
       "      <td>0.7979</td>\n",
       "      <td>0.8004</td>\n",
       "      <td>0.8032</td>\n",
       "      <td>0.8056</td>\n",
       "      <td>0.8084</td>\n",
       "    </tr>\n",
       "    <tr>\n",
       "      <th>0.9</th>\n",
       "      <td>0.811</td>\n",
       "      <td>0.8136</td>\n",
       "      <td>0.817</td>\n",
       "      <td>0.8195</td>\n",
       "      <td>0.8219</td>\n",
       "      <td>0.8252</td>\n",
       "      <td>0.8285</td>\n",
       "      <td>0.8312</td>\n",
       "      <td>0.8343</td>\n",
       "      <td>0.8372</td>\n",
       "    </tr>\n",
       "  </tbody>\n",
       "</table>\n",
       "</div>"
      ],
      "text/plain": [
       "       0.00    0.01    0.02    0.03    0.04    0.05    0.06    0.07    0.08  \\\n",
       "0.0  0.4942  0.4973  0.5026  0.5073  0.5116  0.5149  0.5184  0.5227   0.526   \n",
       "0.1  0.5335  0.5381  0.5412  0.5448  0.5485  0.5533  0.5568  0.5604   0.565   \n",
       "0.2  0.5741  0.5776  0.5826  0.5871  0.5897  0.5931  0.5969  0.5998  0.6042   \n",
       "0.3  0.6117   0.615  0.6187   0.623  0.6263  0.6299  0.6332  0.6377  0.6423   \n",
       "0.4  0.6489  0.6523  0.6565  0.6601  0.6635  0.6671  0.6712  0.6744  0.6779   \n",
       "0.5  0.6856  0.6894  0.6934  0.6961  0.7002  0.7039  0.7065  0.7096  0.7135   \n",
       "0.6  0.7184  0.7218  0.7252  0.7287  0.7321   0.735   0.739  0.7438  0.7464   \n",
       "0.7  0.7535  0.7565  0.7588  0.7627  0.7659  0.7693   0.773  0.7749   0.777   \n",
       "0.8  0.7821  0.7855  0.7886  0.7911  0.7946  0.7979  0.8004  0.8032  0.8056   \n",
       "0.9   0.811  0.8136   0.817  0.8195  0.8219  0.8252  0.8285  0.8312  0.8343   \n",
       "\n",
       "       0.09  \n",
       "0.0  0.5294  \n",
       "0.1  0.5701  \n",
       "0.2  0.6077  \n",
       "0.3  0.6448  \n",
       "0.4  0.6824  \n",
       "0.5  0.7155  \n",
       "0.6  0.7499  \n",
       "0.7   0.779  \n",
       "0.8  0.8084  \n",
       "0.9  0.8372  "
      ]
     },
     "execution_count": 7,
     "metadata": {},
     "output_type": "execute_result"
    }
   ],
   "source": [
    "standard_normal_table = pd.DataFrame(\n",
    "    data =[],\n",
    "    index = np.round(np.arange(0, 1, .1), 2),\n",
    "    columns = np.round(np.arange(0.00, .1, .01), 2)\n",
    ")\n",
    "\n",
    "for index in standard_normal_table.index:\n",
    "    for column in standard_normal_table.columns:\n",
    "        z = np.round(index+column, 2)\n",
    "        value = 0\n",
    "        for k in np.round(np.arange(min( random_numbers ), z, .01), 2):\n",
    "            if counter.get( k ) is not None:\n",
    "                value = value + counter.get(k)\n",
    "        standard_normal_table.loc[index, column] = value / N\n",
    "        \n",
    "standard_normal_table.index = standard_normal_table.index.astype(str)\n",
    "standard_normal_table.columns = [str(column).ljust(4, '0') for column in standard_normal_table.columns]\n",
    "\n",
    "standard_normal_table"
   ]
  },
  {
   "cell_type": "code",
   "execution_count": null,
   "metadata": {},
   "outputs": [],
   "source": []
  },
  {
   "cell_type": "markdown",
   "metadata": {
    "slideshow": {
     "slide_type": "skip"
    }
   },
   "source": [
    "### 2. Simulación de sucesos discretos.\n",
    "Llegan petroleros para descargar en el muelle según un proceso de Poisson no homogéneo con la siguiente tasa:"
   ]
  },
  {
   "cell_type": "code",
   "execution_count": 8,
   "metadata": {
    "slideshow": {
     "slide_type": "skip"
    }
   },
   "outputs": [
    {
     "data": {
      "image/png": "[encoded data removed]",
      "text/plain": [
       "<Figure size 432x288 with 1 Axes>"
      ]
     },
     "metadata": {
      "needs_background": "light"
     },
     "output_type": "display_data"
    }
   ],
   "source": [
    "POINT_SIZE = 50\n",
    "\n",
    "values = [(0, 5), (5, 7), (8, 6), (15, 9), (17, 6), (24, 5)]\n",
    "x_axis = list(map(lambda x : x[0], values))\n",
    "y_axis = list(map(lambda y : y[1], values))\n",
    "\n",
    "fig, ax = plt.subplots()\n",
    "plt.plot(x_axis, y_axis, color = 'b')\n",
    "for i in values:\n",
    "    plt.scatter(i[0], i[1], s = POINT_SIZE) # draw point s is size\n",
    "    ax.annotate(\"(\" + str(i[0]) + \", \" + str(i[1]) + \")\", (i[0], i[1])) # add labels\n",
    "    plt.plot([i[0], i[0]], [0, i[1]], color = 'black', linewidth = 1, linestyle = 'dashed') # draw vertical lines\n",
    "    plt.plot([0, i[0]], [i[1], i[1]], color = 'black', linewidth = 1, linestyle = 'dashed') # draw horizontal lines\n",
    "plt.show()\n"
   ]
  },
  {
   "cell_type": "markdown",
   "metadata": {
    "slideshow": {
     "slide_type": "skip"
    }
   },
   "source": [
    "El petrolero llega hasta la entrada del puerto, y espera a que un remolcador \n",
    "esté disponible y lo lleve hasta el muelle. Se disponen en el puerto de 10 \n",
    "remolcadores."
   ]
  },
  {
   "cell_type": "markdown",
   "metadata": {
    "slideshow": {
     "slide_type": "skip"
    }
   },
   "source": [
    "Los remolcadores también realizan la labor de llevar cada petrolero hasta la \n",
    "entrada del puerto tras haber descargado. En el fichero “desplazamientos.txt”\n",
    "se dispone de una muestra de las duraciones de los desplazamientos del\n",
    "remolcador con el petrolero. Contrástese si la distribución de dichos tiempos es\n",
    "normal (truncada), uniforme o exponencial y estímense los parámetros de la\n",
    "distribución correspondiente."
   ]
  },
  {
   "cell_type": "code",
   "execution_count": 9,
   "metadata": {},
   "outputs": [],
   "source": [
    "# input data\n",
    "file= open('docs/data/E8.desplazamientos.txt')\n",
    "data_desplazamiento= np.loadtxt(file, unpack='true')\n",
    "file.close()"
   ]
  },
  {
   "cell_type": "code",
   "execution_count": 10,
   "metadata": {},
   "outputs": [
    {
     "data": {
      "text/plain": [
       "KstestResult(statistic=0.01035501786004428, pvalue=0.6571586727422323)"
      ]
     },
     "execution_count": 10,
     "metadata": {},
     "output_type": "execute_result"
    }
   ],
   "source": [
    "#  scipy.stats.kstest(rvs, cdf, args=(), N=20, alternative='two_sided', mode='approx', **kwds)\n",
    "# rvs --> test data; cdf --> distribution type，'norm'，'expon'，'rayleigh'，'gamma'；args=() distribution parametric\n",
    "# N: if vs is string，N is the size of sample\n",
    "# if p-value is bigger than the level of significance（5％），accept H0，The sample data can be considered to be from a given distribution F(x)\n",
    "loc, scale = norm.fit(data_desplazamiento)\n",
    "n = norm(loc=loc, scale=scale)\n",
    "stats.kstest(data_desplazamiento, n.cdf)"
   ]
  },
  {
   "cell_type": "markdown",
   "metadata": {},
   "source": [
    "$D_{n}^{+}=\\max(F_{n}(x)-F(x))$\n",
    "\n",
    "By the Glivenko–Cantelli theorem, if the sample comes from distribution F(x), then Dn converges to 0 almost surely in the limit when n goes to infinity.\n",
    "\n",
    "kstest(rvs, cdf, args=(), N=20, alternative=’two_sided’, mode=’approx’, **kwds)\n",
    "\n",
    "alternative：default as two-sided test，also can be ‘less’ o ‘greater’ for one-sided test\n",
    "\n",
    "https://docs.scipy.org/doc/scipy-0.14.0/reference/generated/scipy.stats.kstest.html"
   ]
  },
  {
   "cell_type": "code",
   "execution_count": 11,
   "metadata": {},
   "outputs": [
    {
     "data": {
      "text/plain": [
       "KstestResult(statistic=0.2177462278558, pvalue=2.43873358745901e-206)"
      ]
     },
     "execution_count": 11,
     "metadata": {},
     "output_type": "execute_result"
    }
   ],
   "source": [
    "loc, scale = uniform.fit(data_desplazamiento)\n",
    "u = uniform(loc=loc, scale=scale)\n",
    "stats.kstest(data_desplazamiento, u.cdf)"
   ]
  },
  {
   "cell_type": "code",
   "execution_count": 12,
   "metadata": {},
   "outputs": [
    {
     "data": {
      "text/plain": [
       "KstestResult(statistic=0.3581258415266688, pvalue=0.0)"
      ]
     },
     "execution_count": 12,
     "metadata": {},
     "output_type": "execute_result"
    }
   ],
   "source": [
    "loc, scale = expon.fit(data_desplazamiento)\n",
    "ex = expon(loc=loc, scale=scale)\n",
    "stats.kstest(data_desplazamiento, ex.cdf)"
   ]
  },
  {
   "cell_type": "code",
   "execution_count": 13,
   "metadata": {},
   "outputs": [
    {
     "name": "stdout",
     "output_type": "stream",
     "text": [
      "Mu: 10.007615178514001\n",
      "Sigma: 3.0373964893054275\n"
     ]
    }
   ],
   "source": [
    "# method of moments --> estimate parametrics of a normal distribution\n",
    "mu = np.mean(data_desplazamiento)\n",
    "sigma = np.std(data_desplazamiento)\n",
    "print(\"Mu: \" + str(mu))\n",
    "print(\"Sigma: \" + str(sigma))"
   ]
  },
  {
   "cell_type": "code",
   "execution_count": 14,
   "metadata": {},
   "outputs": [
    {
     "data": {
      "text/plain": [
       "AndersonResult(statistic=1106.7655637247299, critical_values=array([0.922, 1.078, 1.341, 1.606, 1.957]), significance_level=array([15. , 10. ,  5. ,  2.5,  1. ]))"
      ]
     },
     "execution_count": 14,
     "metadata": {},
     "output_type": "execute_result"
    }
   ],
   "source": [
    "stats.anderson(data_desplazamiento, dist='expon')"
   ]
  },
  {
   "cell_type": "markdown",
   "metadata": {
    "slideshow": {
     "slide_type": "skip"
    }
   },
   "source": [
    "Cuando el remolcador va de vacío (sin remolcar) la distribución es también \n",
    "normal pero con media de 2 minutos y desviación típica 1. "
   ]
  },
  {
   "cell_type": "markdown",
   "metadata": {
    "slideshow": {
     "slide_type": "skip"
    }
   },
   "source": [
    "Existe un número limitado de 20 muelles donde pueden atracar los \n",
    "petroleros. El tiempo de descarga de cada petrolero tiene una distribución \n",
    "chi cuadrado con 2 grados de libertad, expresada en horas. "
   ]
  },
  {
   "cell_type": "markdown",
   "metadata": {
    "slideshow": {
     "slide_type": "skip"
    }
   },
   "source": [
    "El remolcador da prioridad a los petroleros que llegan sobre los que \n",
    "abandonan el puerto.\n",
    "A. Simule el comportamiento del puerto para estimar el tiempo medio \n",
    "que tardan en atracar los barcos, el tiempo máximo en atracar, el \n",
    "número medio de barcos atracados en el puerto y el número medio y \n",
    "máximo de barcos esperando a atracar.\n",
    "B. Analice la posibilidad de disponer de 3 nuevos remolcadores y \n",
    "realizar obras para disponer de 5 nuevos muelles ¿cuál de las dos \n",
    "opciones es mejor?"
   ]
  },
  {
   "cell_type": "markdown",
   "metadata": {
    "slideshow": {
     "slide_type": "skip"
    }
   },
   "source": [
    "Una distribución de Poisson da la probabilidad de varios eventos en un intervalo generado por un proceso de Poisson. La distribución de Poisson se define mediante el parámetro de velocidad, λ, que es el número esperado de eventos en el intervalo (eventos / intervalo * duración del intervalo) y el número más alto de probabilidad de eventos. También podemos usar la Distribución de Poisson para encontrar el tiempo de espera entre eventos. Incluso si llegamos a un tiempo aleatorio, el tiempo de espera promedio siempre será el tiempo promedio entre eventos.\n"
   ]
  },
  {
   "cell_type": "code",
   "execution_count": 37,
   "metadata": {},
   "outputs": [],
   "source": [
    "# Params\n",
    "\n",
    "LOG_FILE = 'ports.log'\n",
    "# Num of tugs available\n",
    "MAXTUGS = 10\n",
    "# Num of wharves available\n",
    "MAXWHARVES = 20\n",
    "# Max time\n",
    "T = 7 * 24 * 60 # 7 days\n",
    "TUG_MU_EMPTY = 2\n",
    "TUG_SIGMA_EMPTY = 1\n",
    "TUG_MU_FULL = mu\n",
    "TUG_SIGMA_FULL = sigma\n",
    "WHARVE_FREEDOM_DEGREE = 2\n"
   ]
  },
  {
   "cell_type": "code",
   "execution_count": 38,
   "metadata": {
    "slideshow": {
     "slide_type": "skip"
    }
   },
   "outputs": [],
   "source": [
    "# Returns the poisson proccess rate\n",
    "# t: time in minutes along a month\n",
    "# As t could be any minute in a month, we need to get the t in minutes in the day\n",
    "\n",
    "def getPoissonRate(t):\n",
    "    lambd = 0\n",
    "    h_in_day = (t/60.0) % 24.0\n",
    "    if h_in_day >= 0.0 and h_in_day < 5.0:\n",
    "        lambd = 2.0/5.0* h_in_day+5.0\n",
    "    elif h_in_day >= 5.0 and h_in_day < 8.0:\n",
    "        lambd = -1.0/3.0*h_in_day+26.0/3.0\n",
    "    elif(h_in_day >= 8.0 and h_in_day < 15.0):\n",
    "        lambd = 3.0/7.0*h_in_day+18.0/7.0\n",
    "    elif(h_in_day >= 15.0 and h_in_day < 17.0):\n",
    "        lambda_possion = -3.0/2.0*h_in_day+63.0/2.0\n",
    "    elif(h_in_day >= 17.0 and h_in_day < 24.0):\n",
    "        lambd = -1.0/7.0*h_in_day+59.0/7.0\n",
    "    return lambd;\n",
    "\n",
    "# used for poisson distribution and exponential distribution\n",
    "    "
   ]
  },
  {
   "cell_type": "code",
   "execution_count": 55,
   "metadata": {},
   "outputs": [],
   "source": [
    "# llegada de barco\n",
    "# remolcador llegada a la entrada\n",
    "# remolcador llegada al muelle\n",
    "# barco termina la descarga\n",
    "\n",
    "#Enumeracion que contiene los tipos de eventos posibles\n",
    "class Events(Enum):  \n",
    "    TANK_ARRIVAL = 0 # Indica la entrada de un barco al puerto.\n",
    "    WAITING_FOR_TUG = 1 # Esperando a un remorcador\n",
    "    TANK_TO_WHARVE = 2 # Barco llega al muelle\n",
    "    TANK_UNLOADING = 3 # Barco descargando\n",
    "    TANK_TO_SEA = 8 # Barco al mar de nuevo\n",
    "    TANK_UNLOAD = 20 # Indica que un barco ha terminado de descargar en un muelle.\n",
    "    TUG_AT_WHARVE = 38 # Indica la llegada de un remolcador a los muelles.\n",
    "    TUG_AT_ENTRANCE = 58 # Indica la llegada de un remolcador a la entrada del puerto.\n",
    "    \n",
    "class TankStatus(Enum):  \n",
    "    ARRIVAL_WAITING = 0 # Indica la entrada de un barco al puerto, modo inicial esperando\n",
    "    FINISHED_AND_WAITING = 1 # Indica un barco que ha descargado en el muelle y espera al remorcador\n",
    "    UNLOADING = 2 # Barco descargando\n",
    "    EXIT = 3 # En el mar\n",
    "\n",
    "#Clase con informacion sobre el contenido de los muelles. Cada elemento\n",
    "#contiene una id de barco y el tiempo de fin de descarga\n",
    "class ListWharves():\n",
    "    L = []\n",
    "    \n",
    "    def __init__( self, maxwharves ):\n",
    "        self.L = []\n",
    "        self.max_wharves = maxwharves\n",
    "    \n",
    "    # Para ordenar la lista con la funcion sorted(), devuelve el tiempo de fin de descarga\n",
    "    def comparator(self, value):\n",
    "        return value[0]\n",
    "    \n",
    "    #Anade un evento a partir del momento y el tipo. Ademas ordena la\n",
    "    #lista para que los eventos queden en orden cronologico.\n",
    "    def add(self, ID, ready_time ):\n",
    "        if len( self.L ) >= self.max_wharves:\n",
    "            print( \"Error: max size exceeded\" )\n",
    "            return None\n",
    "        self.L.append((ID, ready_time))\n",
    "        self.L = sorted(self.L, key = self.comparator)\n",
    "        \n",
    "    #Saca y devuelve el primer elemento de la lista.\n",
    "    def pop_front(self):\n",
    "        ID, ready_time = self.L[0]\n",
    "        self.L = self.L[1:]\n",
    "        return ID, ready_time\n",
    "    \n",
    "    def get_waiting_ids( self, time ):\n",
    "        return [x[0] for x in self.L if x[1]]\n",
    "\n",
    "# Clase para guardar una lista de eventos. Cada elemento es una tupla con\n",
    "# el momento en el que ocurre el evento y el tipo de evento.\n",
    "class ListEvents():\n",
    "    L = []\n",
    "    \n",
    "    def __init__( self ):\n",
    "        self.L = []\n",
    "    \n",
    "    # Para ordenar la lista con la funcion sorted(), devuelve el momento del evento\n",
    "    def comparator(self, value):\n",
    "        return value[0]\n",
    "    \n",
    "    # Returns the size of the list\n",
    "    def size(self):\n",
    "        return len(self.L)\n",
    "    \n",
    "    #Anade un evento a partir del momento y el tipo. Ademas ordena la\n",
    "    #lista para que los eventos queden en orden cronologico.\n",
    "    def add(self, time, event_type ):\n",
    "        #logging.info(\"New event arrived at events list: \" + event_type.name + \" :\" + str(time))\n",
    "        self.L.append((time, event_type))\n",
    "        self.L = sorted(self.L, key = self.comparator)\n",
    "    \n",
    "    #Saca y devuelve el primer elemento de la lista.\n",
    "    def pop_front(self):\n",
    "        event_time, event = self.L[0]\n",
    "        #logging.info(\"Processing event: \" + event.name + \" :\" + str(event_time))\n",
    "        self.L = self.L[1:]\n",
    "        return event_time, event\n",
    "    \n",
    "    #Devuelvo el momento del evento con indice index.\n",
    "    def get_time( self, index ):\n",
    "        return self.L[index][0]\n",
    "    \n",
    "    #Devuelvo el tipo del evento con indice index.\n",
    "    def get_event_type( self, index ):\n",
    "        return self.L[index][1]\n",
    "    \n",
    "class ListTanks:\n",
    "    def __init__(self):\n",
    "        self.L = []\n",
    "        \n",
    "    def add(self, time_event):\n",
    "        tank = {\n",
    "            \"id\": len(self.L) + 1,\n",
    "            \"arrival_time\": time_event,\n",
    "            \"entrance_wait_time\" : -1,\n",
    "            \"wharve_arrival_time\" : -1,\n",
    "            \"finish_unload_time\" : -1,\n",
    "            \"wharve_wait_time\" : -1,\n",
    "            \"status\": TankStatus.ARRIVAL_WAITING\n",
    "        }\n",
    "        self.L.append(tank)\n",
    "        return tank\n",
    "    \n",
    "    # get by status\n",
    "    def get_status(self, status):\n",
    "        return next((tank for tank in self.L if tank[\"status\"] == status), None)"
   ]
  },
  {
   "cell_type": "code",
   "execution_count": 60,
   "metadata": {},
   "outputs": [],
   "source": [
    "#Clase para las simulaciones del ejecrcicio 2\n",
    "class Simulation:\n",
    "    def __init__(self, tug_mu_empty, tug_sigma_empty, tug_mu_full, tug_sigma_full, wharve_freedom_degree, maxtugs, maxwharves):\n",
    "        logging.info(\"Simulation parameters initialization ...\")\n",
    "        \n",
    "        self.list_tanks = ListTanks()\n",
    "        self.tug_mu_empty = tug_mu_empty\n",
    "        self.tug_sigma_empty = tug_sigma_empty\n",
    "        self.tug_mu_full = tug_mu_full\n",
    "        self.tug_sigma_full = tug_sigma_full\n",
    "        self.wharve_freedom_degree = wharve_freedom_degree\n",
    "        \n",
    "        self.tankers_waiting_entrance = []\n",
    "        self.tankers_wharves = ListWharves( maxwharves )\n",
    "        \n",
    "        self.time = 0.0\n",
    "        self.max_time = T\n",
    "        self.list_events = ListEvents()\n",
    "        self.remolcadores_entrada = maxtugs\n",
    "        self.remolcadores_muelles = 0\n",
    "        self.max_wharves = maxwharves\n",
    "        \n",
    "        self.mean_time_to_dock = [0.0, 0]\n",
    "        self.max_time_to_dock = 0.0\n",
    "        self.mean_tankers_docked = 0.0\n",
    "        self.mean_tankers_wait_at_entrance = 0.0\n",
    "        self.max_tankers_wait_at_entrance = 0\n",
    "        logging.info(\"Simulation parameters initialized\")\n",
    "        \n",
    "    # Funcion para empezar la simulacion\n",
    "    def simulate(self):\n",
    "        logging.info(\"Simulation starting ...\")\n",
    "        \n",
    "        # Calculamos la llegada del primer barco.\n",
    "        x = 60 * random.expovariate(getPoissonRate(self.time))\n",
    "        \n",
    "        # Si el primer barco llega despues del final de la simulacion,\n",
    "        # devuelve error\n",
    "        if x > max_time:\n",
    "            logging.error(\"No tankers arrived during simulation time. Ending...\")\n",
    "            return -1\n",
    "        else:\n",
    "            # Add the first event (the first tank arrival)\n",
    "            self.list_events.add(self.time + x, Events.TANK_ARRIVAL)\n",
    "            # Bucle principal en el que se tratan eventos durante el\n",
    "            # tiempo de simulacion.\n",
    "            while self.list_events.size() > 0:\n",
    "                #Tomamos el proximo evento\n",
    "                time_event, event =  self.list_events.pop_front()\n",
    "                \n",
    "                self.mean_tankers_docked += len( self.tankers_wharves.L ) * ( time_event - self.time )\n",
    "                self.mean_tankers_wait_at_entrance += len( self.tankers_waiting_entrance ) * ( time_event - self.time )\n",
    "                self.max_tankers_wait_at_entrance = max( len( self.tankers_waiting_entrance ), self.max_tankers_wait_at_entrance )\n",
    "                \n",
    "                self.time = time_event\n",
    "                # Llamamos a diferentes rutinas segun el tipo de evento\n",
    "                if event == Events.TANK_ARRIVAL:\n",
    "                    self.rutina_llegada_barco()\n",
    "                if event == Events.TANK_UNLOAD:\n",
    "                    self.rutina_muelle()\n",
    "                if event == Events.TUG_AT_WHARVE:\n",
    "                    self.rutina_remolcador_muelle()\n",
    "                if event == Events.TUG_AT_ENTRANCE:\n",
    "                    self.rutina_remolcador_entrada()\n",
    "\n",
    "            self.mean_tankers_docked /= self.max_time\n",
    "            self.mean_tankers_wait_at_entrance /= self.max_time\n",
    "            if self.mean_time_to_dock[1] > 0:\n",
    "                self.mean_time_to_dock = self.mean_time_to_dock[0] / self.mean_time_to_dock[1]\n",
    "            else:\n",
    "                self.mean_time_to_dock = -1\n",
    "                    \n",
    "            return 0\n",
    "        \n",
    "    # Rutina para la llegada de un barco\n",
    "    def rutina_llegada_barco(self):\n",
    "        tank = self.list_tanks.add(self.time)\n",
    "        logging.info(\n",
    "            \"TANKER \" + str(tank[\"id\"]) + \n",
    "            \" arrived at: \" + str(tank[\"arrival_time\"])\n",
    "        )\n",
    "        \n",
    "        # Generamos el momento de llegada del siguiente barco y lo\n",
    "        # anadimos a la lista de eventos si no hemos excedido el\n",
    "        #tiempo de simulacion\n",
    "        x = 60 * random.expovariate(getPoissonRate(self.time))\n",
    "        if self.time + x > self.max_time:\n",
    "            logging.info( \"End of tanker arrivals.\" )\n",
    "        else:    \n",
    "            self.list_events.add(self.time + x, Events.TANK_ARRIVAL)\n",
    "            \n",
    "        #Anadimos el barco a la cola de entrada\n",
    "        self.tankers_waiting_entrance.append( tank[\"id\"] )\n",
    "        \n",
    "        #Si hay un remolcador disponible y los muelles no estan llenos,\n",
    "        #usamos uno de ellos para llevar al barco que lleva mas tiempo\n",
    "        #esperando a los muelles.\n",
    "        if self.remolcadores_entrada > 0 and len( self.tankers_wharves ) < self.maxwharves:\n",
    "            #Podemos calcular de antemano tanto el momento de llegada\n",
    "            #a los puertos como el momento en el que el barco\n",
    "            #terminara de descargar\n",
    "            y = random.normalvariate(self.tug_mu_full, self.tug_sigma_full)\n",
    "            #El tiempo de descarga esta expresado en horas\n",
    "            z = 60 * np.random.chisquare(self.wharve_freedom_degree)\n",
    "            \n",
    "            #Anadimos los eventos correspondientes\n",
    "            self.list_events.add(self.time + y, Events.TUG_AT_WHARVE)\n",
    "            self.list_events.add(self.time + y + z, Events.TANK_UNLOAD)\n",
    "            logging.info(\n",
    "                \"Tug tugging TANKER \" + str(self.tankers_waiting_entrance[0]) + \n",
    "                \" towards wharves at: \" + str(self.time)\n",
    "            )\n",
    "            \n",
    "            self.remolcadores_entrada -= 1\n",
    "            \n",
    "            #Actualizamos los tiempos del barco que vamos a transportar\n",
    "            self.list_tanks.L[self.tankers_waiting_entrance[0] - 1][\"entrance_wait_time\"] = self.time - self.list_tanks.L[self.tankers_waiting_entrance[0] - 1][\"arrival_time\"]\n",
    "            self.list_tanks.L[self.tankers_waiting_entrance[0] - 1][\"wharve_arrival_time\"] = self.time + y\n",
    "            self.list_tanks.L[self.tankers_waiting_entrance[0] - 1][\"finished_unloading_time\"] = self.time + y + z\n",
    "            \n",
    "            #Actualizamos el tiempo medio y maximo para atracar\n",
    "            self.mean_time_to_dock[0] += self.list_tanks.L[self.tankers_waiting_entrance[0] - 1][\"entrance_wait_time\"] + y\n",
    "            self.mean_time_to_dock[1] += 1\n",
    "            self.max_time_to_dock = max( self.max_time_to_dock, self.list_tanks.L[self.tankers_waiting_entrance[0] - 1][\"entrance_wait_time\"] + y )\n",
    "            \n",
    "            #Asignamos el barco al muelle directamente para evitar condiciones\n",
    "            #de carrera (por ejemplo que haya una sola plaza y dos remolcadores\n",
    "            #intentar llevar barcos a la vez)\n",
    "            self.tankers_wharves.add( self.tankers_waiting_entrance[0], self.time + y + z )\n",
    "            self.tankers_waiting_entrance = self.tankers_waiting_entrance[1:]\n",
    "        #Si no hay remolcadores en la entrada, pero hay en los muelles\n",
    "        #y estos no estan llenos, enviamos un remolcador vacio hacia\n",
    "        #la entrada.\n",
    "        elif self.remolcadores_muelles > 0 and len( self.tankers_wharves.L ) < self.maxwharves:\n",
    "            y = random.normalvariate(self.tug_mu_empty, self.tug_sigma_empty)\n",
    "            \n",
    "            self.list_events.add(self.time + y, Events.TUG_AT_ENTRANCE)\n",
    "            logging.info(\n",
    "                \"Tug heading towards entrance at: \" + str(self.time)\n",
    "            )\n",
    "            \n",
    "            self.remolcadores_muelles -= 1\n",
    "    \n",
    "    # Rutina para cuando un barco termina de descargar\n",
    "    def rutina_muelle(self):\n",
    "        logging.info(\n",
    "            \"TANKER \" + str(self.tankers_wharves[0]) + \n",
    "            \" finished unloading at: \" + str(self.time)\n",
    "        )\n",
    "        #Si hay remolcadores disponibles, usamos uno de ellos para sacar\n",
    "        #del puerto al barco que mas tiempo lleve esperando. Se siguen\n",
    "        #cumpliendo la prioridades porque, si se necesitaran barcos en la\n",
    "        #entrada, estos ya habrian abandonado los muelles gracias a\n",
    "        #rutina_llegada_barco() o rutina_remolcador_muelles()\n",
    "        if self.remolcadores_muelles > 0:\n",
    "            y = random.normalvariate(self.tug_mu_full, self.tug_sigma_full)\n",
    "            #Tomamos el primer barco. Como estan ordenados por momento en\n",
    "            #el que terminan de descargar, sabemos que es el que mas\n",
    "            #tiempo lleva esperando. Ademas, como su transporte a la entrada del\n",
    "            #puerto no nos aporta ningun dato relevante, ya no necesitamos\n",
    "            #registrarlo en ninguna parte (salvo en la lista de todos los barcos)\n",
    "            tanker = self.tankers_wharves.pop_front()\n",
    "            \n",
    "            #Anadimos el evento para el remolcador\n",
    "            self.list_events.add(self.time + y, Events.TUG_AT_ENTRANCE)\n",
    "            logging.info(\n",
    "                \"Tug tugging TANK \" + str(tanker[0]) + \n",
    "                \" towards entrance at: \" + str(self.time)\n",
    "            )\n",
    "            \n",
    "            self.remolcadores_muelles -= 1\n",
    "            #Actualizamos los tiempos del barco\n",
    "            self.list_tanks.L[tanker[0] - 1][\"wharve_wait_time\"] = self.time - self.list_tanks.L[tanker[0] - 1][\"finish_unload_time\"]\n",
    "        \n",
    "        #Si no hay remolcadores en los muelles, pero los hay en la entrada\n",
    "        #y no estan metiendo barcos (ya sea porque no hay barcos en la\n",
    "        #entrada o porque los muelles estan llenos), traemos uno a los\n",
    "        #muelles\n",
    "        elif self.remolcadores_entrada > 0 and ( len( self.tankers_waiting_entrance ) == 0 or len( self.tankers_wharves.L ) == self.maxwharves ):\n",
    "            y = random.normalvariate(self.tug_mu_empty, self.tug_sigma_empty)\n",
    "            \n",
    "            self.list_events.add(self.time + y, Events.TUG_AT_WHARVES)\n",
    "            logging.info(\n",
    "                \"Tug heading towards wharves at: \" + str(self.time)\n",
    "            )\n",
    "            \n",
    "            self.remolcadores_entrada -= 1\n",
    "    \n",
    "    #Rutina para cuando un remolcador llega a la entrada\n",
    "    def rutina_remolcador_entrada(self):\n",
    "        logging.info(\n",
    "            \"Tug arrived to entrance at: \" + str(self.time)\n",
    "        )\n",
    "        \n",
    "        #Si hay barcos esperando y los muelles no estan llenos, lleva el\n",
    "        #barco que lleve mas tiempo esperando a los muelles.\n",
    "        if len( self.tankers_waiting_entrance ) > 0 and len( self.tankers_wharves.L ) < self.maxwharves:\n",
    "            y = random.normalvariate(self.tug_mu_full, self.tug_sigma_full)\n",
    "            #El tiempo de descarga esta expresado en horas\n",
    "            z = 60 * np.random.chisquare(self.wharve_freedom_degree)\n",
    "            \n",
    "            self.list_events.add(self.time + y, Events.TUG_AT_WHARVE)\n",
    "            self.list_events.add(self.time + y + z, Events.TANK_UNLOAD)\n",
    "            logging.info(\n",
    "                \"Tug tugging TANKER \" + str(self.tankers_waiting_entrance[0]) + \n",
    "                \" towards wharves at: \" + str(self.time)\n",
    "            )\n",
    "            \n",
    "            self.list_tanks.L[self.tankers_waiting_entrance[0] - 1][\"entrance_wait_time\"] = self.time - self.list_tanks.L[self.tankers_waiting_entrance[0] - 1][\"arrival_time\"]\n",
    "            self.list_tanks.L[self.tankers_waiting_entrance[0] - 1][\"wharve_arrival_time\"] = self.time + y\n",
    "            self.list_tanks.L[self.tankers_waiting_entrance[0] - 1][\"finished_unloading_time\"] = self.time + y + z\n",
    "            \n",
    "            #Actualizamos el tiempo medio y maximo para atracar\n",
    "            self.mean_time_to_dock[0] += self.list_tanks.L[self.tankers_waiting_entrance[0] - 1][\"entrance_wait_time\"] + y\n",
    "            self.mean_time_to_dock[1] += 1\n",
    "            self.max_time_to_dock = max( self.max_time_to_dock, self.list_tanks.L[self.tankers_waiting_entrance[0] - 1][\"entrance_wait_time\"] + y )\n",
    "            \n",
    "            self.tankers_wharves.add( self.tankers_waiting_entrance[0], self.time + y + z )\n",
    "            self.tankers_waiting_entrance = self.tankers_waiting_entrance[1:]\n",
    "        #Si no hay ningun barco en el sistema, espera en la entrada\n",
    "        elif len( self.tankers_waiting_entrance ) == 0 and len( self.tankers_wharves.L ) == 0:\n",
    "            self.remolcadores_entrada += 1\n",
    "        #Si hay barcos esperando en los muelles y no hay barcos en la entrada,\n",
    "        #o si los muelles estan llenos, va hacia los muelles\n",
    "        else:\n",
    "            y = random.normalvariate(self.tug_mu_empty, self.tug_sigma_empty)\n",
    "            \n",
    "            self.list_events.add(self.time + y, Events.TUG_AT_WHARVES)\n",
    "            logging.info(\n",
    "                \"Tug heading towards wharves at: \" + str(self.time)\n",
    "            )\n",
    "    #Rutina para cuando llega un remolcador a los muelles\n",
    "    def rutina_remolcador_muelles( self ):\n",
    "        logging.info(\n",
    "            \"Tug arrived to entrance at: \" + str(self.time)\n",
    "        )\n",
    "        \n",
    "        #Si los muelles no estan llenos, o si no hay barcos de los que\n",
    "        #encargarse, va hacia la entrada, cumpliendo con las prioridades\n",
    "        if len( self.tankers_wharves.L ) < self.maxwharves and ( len( self.tankers_waiting_entrance ) > 0 or len( self.tankers_wharves.get_waiting_ids() ) == 0 ):\n",
    "            y = random.normalvariate(self.tug_mu_empty, self.tug_sigma_empty)\n",
    "            \n",
    "            self.list_events.add(self.time + y, Events.TUG_AT_ENTRANCE)\n",
    "            logging.info(\n",
    "                \"Tug heading towards entrance at: \" + str(self.time)\n",
    "            )\n",
    "        #Si los muelles estan llenos o todos los barcos que estan esperando\n",
    "        #estan en los muelles, lleva el que mas tiempo haya estado esperando\n",
    "        #a la salida\n",
    "        elif len( self.tankers_wharves.get_waiting_ids() ) > 0:\n",
    "            y = random.normalvariate(self.tug_mu_full, self.tug_sigma_full)\n",
    "            tanker = self.tankers_wharves.pop_front()\n",
    "            \n",
    "            self.list_events.add(self.time + y, Events.TUG_AT_ENTRANCE)\n",
    "            logging.info(\n",
    "                \"Tug tugging TANK \" + str(tanker[0]) + \n",
    "                \" towards entrance at: \" + str(self.time)\n",
    "            )\n",
    "            \n",
    "            self.remolcadores_muelles -= 1\n",
    "            self.list_tanks.L[tanker[0] - 1][\"wharve_wait_time\"] = self.time - self.list_tanks.L[tanker[0] - 1][\"finish_unload_time\"]\n",
    "        #Si los muelles estan llenos, pero ninguno de los barcos ha terminado\n",
    "        #de descargar, el remolcador espera a que alguno termine.\n",
    "        else:\n",
    "            self.remolcadores_muelles +=1\n",
    "            \n",
    "    def rutina_descarga(self, time_event):\n",
    "        self.time = time_event\n",
    "        \n",
    "        #tank[\"status\"] = TankStatus.FINISHED_AND_WAITING\n",
    "    \n",
    "    def rutina_mar(self, time_event):\n",
    "        pass"
   ]
  },
  {
   "cell_type": "code",
   "execution_count": 61,
   "metadata": {},
   "outputs": [
    {
     "ename": "NameError",
     "evalue": "name 'TANK_UNLOADING' is not defined",
     "output_type": "error",
     "traceback": [
      "\u001b[1;31m---------------------------------------------------------------------------\u001b[0m",
      "\u001b[1;31mNameError\u001b[0m                                 Traceback (most recent call last)",
      "\u001b[1;32m<ipython-input-61-ffa02d3df2c6>\u001b[0m in \u001b[0;36m<module>\u001b[1;34m\u001b[0m\n\u001b[0;32m      5\u001b[0m \u001b[1;33m\u001b[0m\u001b[0m\n\u001b[0;32m      6\u001b[0m \u001b[0msimulation\u001b[0m \u001b[1;33m=\u001b[0m \u001b[0mSimulation\u001b[0m\u001b[1;33m(\u001b[0m\u001b[1;33m)\u001b[0m\u001b[1;33m\u001b[0m\u001b[0m\n\u001b[1;32m----> 7\u001b[1;33m \u001b[1;32mif\u001b[0m \u001b[0msimulation\u001b[0m\u001b[1;33m.\u001b[0m\u001b[0msimulate\u001b[0m\u001b[1;33m(\u001b[0m\u001b[1;33m)\u001b[0m \u001b[1;33m==\u001b[0m \u001b[1;33m-\u001b[0m\u001b[1;36m1\u001b[0m\u001b[1;33m:\u001b[0m\u001b[1;33m\u001b[0m\u001b[0m\n\u001b[0m\u001b[0;32m      8\u001b[0m     \u001b[0mlogging\u001b[0m\u001b[1;33m.\u001b[0m\u001b[0merror\u001b[0m\u001b[1;33m(\u001b[0m\u001b[1;34m\"Simulation failed\"\u001b[0m\u001b[1;33m)\u001b[0m\u001b[1;33m\u001b[0m\u001b[0m\n\u001b[0;32m      9\u001b[0m \u001b[1;32melse\u001b[0m\u001b[1;33m:\u001b[0m\u001b[1;33m\u001b[0m\u001b[0m\n",
      "\u001b[1;32m<ipython-input-60-4ba7fa8c2286>\u001b[0m in \u001b[0;36msimulate\u001b[1;34m(self)\u001b[0m\n\u001b[0;32m     65\u001b[0m                     \u001b[0mself\u001b[0m\u001b[1;33m.\u001b[0m\u001b[0mrutina_remolcador\u001b[0m\u001b[1;33m(\u001b[0m\u001b[0mtime_event\u001b[0m\u001b[1;33m)\u001b[0m\u001b[1;33m\u001b[0m\u001b[0m\n\u001b[0;32m     66\u001b[0m                 \u001b[1;32mif\u001b[0m \u001b[0mevent\u001b[0m \u001b[1;33m==\u001b[0m \u001b[0mEvents\u001b[0m\u001b[1;33m.\u001b[0m\u001b[0mTANK_TO_WHARVE\u001b[0m\u001b[1;33m:\u001b[0m\u001b[1;33m\u001b[0m\u001b[0m\n\u001b[1;32m---> 67\u001b[1;33m                     \u001b[0mself\u001b[0m\u001b[1;33m.\u001b[0m\u001b[0mrutina_muelle\u001b[0m\u001b[1;33m(\u001b[0m\u001b[0mtime_event\u001b[0m\u001b[1;33m)\u001b[0m\u001b[1;33m\u001b[0m\u001b[0m\n\u001b[0m\u001b[0;32m     68\u001b[0m \u001b[1;33m\u001b[0m\u001b[0m\n\u001b[0;32m     69\u001b[0m             \u001b[1;32mreturn\u001b[0m \u001b[1;36m0\u001b[0m\u001b[1;33m\u001b[0m\u001b[0m\n",
      "\u001b[1;32m<ipython-input-60-4ba7fa8c2286>\u001b[0m in \u001b[0;36mrutina_muelle\u001b[1;34m(self, time_event)\u001b[0m\n\u001b[0;32m     95\u001b[0m \u001b[1;33m\u001b[0m\u001b[0m\n\u001b[0;32m     96\u001b[0m         \u001b[0mz\u001b[0m \u001b[1;33m=\u001b[0m \u001b[0mnp\u001b[0m\u001b[1;33m.\u001b[0m\u001b[0mrandom\u001b[0m\u001b[1;33m.\u001b[0m\u001b[0mchisquare\u001b[0m\u001b[1;33m(\u001b[0m\u001b[0mself\u001b[0m\u001b[1;33m.\u001b[0m\u001b[0mwharve_freedom_degree\u001b[0m\u001b[1;33m)\u001b[0m\u001b[1;33m\u001b[0m\u001b[0m\n\u001b[1;32m---> 97\u001b[1;33m         \u001b[0mself\u001b[0m\u001b[1;33m.\u001b[0m\u001b[0mlist_events\u001b[0m\u001b[1;33m.\u001b[0m\u001b[0madd\u001b[0m\u001b[1;33m(\u001b[0m\u001b[0mself\u001b[0m\u001b[1;33m.\u001b[0m\u001b[0mtime\u001b[0m \u001b[1;33m+\u001b[0m \u001b[0mz\u001b[0m\u001b[1;33m,\u001b[0m \u001b[0mTANK_UNLOADING\u001b[0m\u001b[1;33m)\u001b[0m\u001b[1;33m\u001b[0m\u001b[0m\n\u001b[0m\u001b[0;32m     98\u001b[0m         \u001b[1;31m#tank[\"status\"] = TankStatus.UNLOADING\u001b[0m\u001b[1;33m\u001b[0m\u001b[1;33m\u001b[0m\u001b[0m\n\u001b[0;32m     99\u001b[0m         \u001b[1;31m#self.list_wharves.add(tank)\u001b[0m\u001b[1;33m\u001b[0m\u001b[1;33m\u001b[0m\u001b[0m\n",
      "\u001b[1;31mNameError\u001b[0m: name 'TANK_UNLOADING' is not defined"
     ]
    }
   ],
   "source": [
    "# clear log\n",
    "open(LOG_FILE, 'w').close()\n",
    "# Setting up for a log file\n",
    "logging.basicConfig(filename=LOG_FILE, level=logging.INFO)\n",
    "\n",
    "simulation = Simulation()\n",
    "if simulation.simulate() == -1:\n",
    "    logging.error(\"Simulation failed\")\n",
    "else:\n",
    "    logging.info(\"Simulation success\")"
   ]
  },
  {
   "cell_type": "markdown",
   "metadata": {
    "slideshow": {
     "slide_type": "slide"
    }
   },
   "source": [
    "### Referencia\n",
    "\n",
    "Marsaglia, G., & Tsang, W. W. (2000). The ziggurat method for generating random variables. Journal of statistical software, 5(8), 1-7.  \n",
    "https://towardsdatascience.com/how-to-use-and-create-a-z-table-standard-normal-table-240e21f36e53 "
   ]
  },
  {
   "cell_type": "code",
   "execution_count": null,
   "metadata": {},
   "outputs": [],
   "source": []
  }
 ],
 "metadata": {
  "celltoolbar": "幻灯片",
  "kernelspec": {
   "display_name": "Python 3",
   "language": "python",
   "name": "python3"
  },
  "language_info": {
   "codemirror_mode": {
    "name": "ipython",
    "version": 3
   },
   "file_extension": ".py",
   "mimetype": "text/x-python",
   "name": "python",
   "nbconvert_exporter": "python",
   "pygments_lexer": "ipython3",
   "version": "3.6.8"
  }
 },
 "nbformat": 4,
 "nbformat_minor": 2
}
