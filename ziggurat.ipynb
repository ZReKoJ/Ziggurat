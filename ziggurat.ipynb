{
 "cells": [
  {
   "cell_type": "markdown",
   "metadata": {
    "slideshow": {
     "slide_type": "slide"
    }
   },
   "source": [
    "# Método de Simulación\n",
    "\n",
    "### Grupo 8\n",
    "\n",
    "Javier Darna Sequeiros, Tingyun Wei, Zihao Hong"
   ]
  },
  {
   "cell_type": "markdown",
   "metadata": {
    "slideshow": {
     "slide_type": "slide"
    }
   },
   "source": [
    "# Algoritmo de Ziggurat"
   ]
  },
  {
   "cell_type": "code",
   "execution_count": 41,
   "metadata": {
    "slideshow": {
     "slide_type": "skip"
    }
   },
   "outputs": [],
   "source": [
    "# imports\n",
    "import matplotlib.pyplot as plt\n",
    "import matplotlib.patches as patches\n",
    "import numpy as np"
   ]
  },
  {
   "cell_type": "markdown",
   "metadata": {
    "slideshow": {
     "slide_type": "slide"
    }
   },
   "source": [
    "### 1. Generación de\tnúmeros y variables aleatorias\n",
    "Describir el algoritmo de Ziggurat para\tdistribuciones con función de densidad decreciente y compararlo\tcon\totros métodos para la generación de\tvalores\tde la normal"
   ]
  },
  {
   "cell_type": "code",
   "execution_count": 72,
   "metadata": {
    "slideshow": {
     "slide_type": "subslide"
    }
   },
   "outputs": [],
   "source": [
    "def gaussian_probability_density_function(x, deviation):\n",
    "    return np.exp((-1 / 2) * ((x) / (deviation)) ** 2)"
   ]
  },
  {
   "cell_type": "code",
   "execution_count": 97,
   "metadata": {
    "slideshow": {
     "slide_type": "subslide"
    }
   },
   "outputs": [
    {
     "data": {
      "image/png": "[encoded data removed]",
      "text/plain": [
       "<Figure size 432x288 with 1 Axes>"
      ]
     },
     "metadata": {
      "needs_background": "light"
     },
     "output_type": "display_data"
    }
   ],
   "source": [
    "DOMAIN = 3\n",
    "N = 100\n",
    "SIZE = 50\n",
    "\n",
    "domain = np.linspace(0, DOMAIN, N) # return a domain from [0, 1] in 100 parts\n",
    "deviation = np.std(domain)\n",
    "\n",
    "divisions = [0, 0.8288, 1.1713, 1.4696, 1.7819, 2.1761]\n",
    "\n",
    "plt.plot(domain, list( # domain is the x axis and the rest y axis\n",
    "    map(\n",
    "        lambda x: gaussian_probability_density_function(x, deviation), \n",
    "        domain\n",
    "    )\n",
    "), color = 'b')\n",
    "\n",
    "currentAxis = plt.gca()\n",
    "for i in range(1, len(divisions)):\n",
    "    y = gaussian_probability_density_function(divisions[i], deviation) # calculate its y axis value\n",
    "    y_prev = gaussian_probability_density_function(divisions[i - 1], deviation) # calculate divisions i - 1 y axis value\n",
    "    \n",
    "    plt.scatter(divisions[i], y, s = SIZE) # draw point s is size\n",
    "    rect = patches.Rectangle((0, y), divisions[i], y_prev - y, linewidth = 1, edgecolor = 'r', fill = None) # draw rectangle\n",
    "    plt.plot([z[i - 1], z[i - 1]], [y_prev, y], color = '#BF7EBE', linewidth = 2, linestyle = 'dashed') # draw lines\n",
    "    \n",
    "    currentAxis.add_patch(rect) # add rectangle\n",
    "\n",
    "plt.show()\n",
    "plt.close()"
   ]
  },
  {
   "cell_type": "markdown",
   "metadata": {
    "slideshow": {
     "slide_type": "subslide"
    }
   },
   "source": [
    "## Esto es con negrita\n",
    "Explicaciones"
   ]
  },
  {
   "cell_type": "code",
   "execution_count": 96,
   "metadata": {},
   "outputs": [
    {
     "data": {
      "image/png": "[encoded data removed]",
      "text/plain": [
       "<Figure size 432x288 with 1 Axes>"
      ]
     },
     "metadata": {
      "needs_background": "light"
     },
     "output_type": "display_data"
    }
   ],
   "source": [
    "values = [(0, 5), (5, 7), (8, 6), (15, 9), (17, 6), (24, 5)]\n",
    "x_axis = list(map(lambda x : x[0], values))\n",
    "y_axis = list(map(lambda y : y[1], values))\n",
    "\n",
    "fig, ax = plt.subplots()\n",
    "plt.plot(x_axis, y_axis, color = 'b')\n",
    "for i in values:\n",
    "    plt.scatter(i[0], i[1], s = SIZE) # draw point s is size\n",
    "    ax.annotate(\"(\" + str(i[0]) + \", \" + str(i[1]) + \")\", (i[0], i[1])) # add labels\n",
    "    plt.plot([i[0], i[0]], [0, i[1]], color = 'black', linewidth = 1, linestyle = 'dashed') # draw vertical lines\n",
    "    plt.plot([0, i[0]], [i[1], i[1]], color = 'black', linewidth = 1, linestyle = 'dashed') # draw horizontal lines\n",
    "plt.show()\n"
   ]
  },
  {
   "cell_type": "code",
   "execution_count": null,
   "metadata": {},
   "outputs": [],
   "source": []
  }
 ],
 "metadata": {
  "celltoolbar": "幻灯片",
  "kernelspec": {
   "display_name": "Python 3",
   "language": "python",
   "name": "python3"
  },
  "language_info": {
   "codemirror_mode": {
    "name": "ipython",
    "version": 3
   },
   "file_extension": ".py",
   "mimetype": "text/x-python",
   "name": "python",
   "nbconvert_exporter": "python",
   "pygments_lexer": "ipython3",
   "version": "3.7.4"
  }
 },
 "nbformat": 4,
 "nbformat_minor": 2
}
