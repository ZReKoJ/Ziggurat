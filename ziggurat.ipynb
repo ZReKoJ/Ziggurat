{
 "cells": [
  {
   "cell_type": "markdown",
   "metadata": {
    "slideshow": {
     "slide_type": "slide"
    }
   },
   "source": [
    "# Método de Simulación\n",
    "\n",
    "### Grupo 8\n",
    "\n",
    "- Javier Darna Sequeiros\n",
    "- Tingyun Wei\n",
    "- Zihao Hong\n",
    "\n",
    "*Máster Universitario en Inteligencia Artificial*"
   ]
  },
  {
   "cell_type": "code",
   "execution_count": 1,
   "metadata": {
    "slideshow": {
     "slide_type": "skip"
    }
   },
   "outputs": [],
   "source": [
    "# imports\n",
    "import matplotlib.pyplot as plt\n",
    "import matplotlib.patches as patches\n",
    "import numpy as np\n",
    "from scipy.integrate import quad\n",
    "import pandas as pd\n",
    "from IPython.display import Image\n",
    "\n",
    "import zignor\n",
    "\n",
    "import random\n",
    "from scipy import stats\n",
    "from scipy.stats import poisson, norm, chi2, expon, uniform\n",
    "from enum import Enum\n",
    "\n",
    "import logging"
   ]
  },
  {
   "cell_type": "markdown",
   "metadata": {
    "slideshow": {
     "slide_type": "slide"
    }
   },
   "source": [
    "### 1. Generación de números y variables aleatorias\n",
    "Describir el algoritmo de Ziggurat para\tdistribuciones con función de densidad decreciente y compararlo\tcon\totros métodos para la generación de\tvalores\tde la normal"
   ]
  },
  {
   "cell_type": "markdown",
   "metadata": {
    "slideshow": {
     "slide_type": "subslide"
    }
   },
   "source": [
    "El **algoritmo de Ziggurat** es un método para generar valores aleatorios a partir de una función de densidad monótona decreciente, como la de la distribución exponencial. Sin embargo también se puede aplicar a distribuciones unimodales simétricas, como la distribución normal, generando un valor para la mitad decreciente de la función y  eligiendo aleatoriamente su signo.  \n",
    "\n",
    "Su nombre proviene de unos templos construidos en la antigua Mesopotamia. Durante el algoritmo, se genera un conjunto de rectángulos \"*apilados*\" que recordaron a su autor a esta estructura.\n",
    "\n",
    "<img src=\"docs/images/ziggurat.png\" width=\"300\" height=\"300\">"
   ]
  },
  {
   "cell_type": "markdown",
   "metadata": {
    "slideshow": {
     "slide_type": "subslide"
    }
   },
   "source": [
    "Este algoritmo está basado el método de rechazo:  \n",
    "\n",
    "> Primero, generamos puntos aleatorios dentro del rectángulo azul siguiendo una distribución uniforme y luego descartamos  todos los puntos que han quedado por encima de la curva de la distribución, es decir aquellos puntos ($x_{n}$, $y_{n}$) tales que $y_{n}$ > $f(x)$, siendo $f(x)$ la función de distribución de la que queremos generar valores. Posteriormente tomamos la coordenada *x* de cada uno de los puntos restantes, obteniendo así los números.  \n",
    "\n",
    "La eficiencia de este método suele ser baja porque muchos puntos generados acaban siendo descartados.\n",
    "\n",
    "<img src=\"docs/images/1.png\" width=\"300\" height=\"300\">"
   ]
  },
  {
   "cell_type": "markdown",
   "metadata": {
    "slideshow": {
     "slide_type": "subslide"
    }
   },
   "source": [
    "Si pudiéramos modificar el área de generación de puntos de forma que sea lo más parecida posible, y esta es la idea básica del algoritmo de Ziggurat. Específicamente, el algoritmo de Ziggurat funciona de la siguiente manera:\n",
    "\n",
    "> Dada una función de densidad de probabilidad decreciente $f(x)$, definida para todo $x ≥ 0$, definimos la base del Ziggurat como el conjunto de puntos dentro de la distribución.  \n",
    "\n",
    "> En primer lugar, dividimos el área debajo de la curva en $n-1$ rectángulos y una cola. Siendo $z_k (k=0,1,...,n-1)$ una sucesión creciente tal que $z_0=0$, formamos el rectángulo $m=1,2,…,n-1$ tomando como esquina superior izquierda el punto $(0,f(z_(m-1) ))$ y como esquina inferior derecha el punto $(z_m,f(z_m ))$, y finalmente definimos la cola como los puntos bajo la curva con ordenada inferior a $f(z_{n-1})$. Los $z_k$ se eligen de forma que las n regiones tengan la misma área. Para generar números elegimos uniformemente una de las regiones y aplicamos el método del rechazo en esa región.  \n",
    "\n",
    "> En la figura 2, se toma $n=8$, pero en la práctica n puede alcanzar 64, 128 o 256. Llamamos a la parte que se superpone al rectángulo superior en la dirección de la longitud región central del rectángulo actual. El rectángulo superior no tiene región central. \n",
    "\n",
    "<img src=\"docs/images/2.png\" width=\"300\" height=\"300\">"
   ]
  },
  {
   "cell_type": "markdown",
   "metadata": {
    "slideshow": {
     "slide_type": "subslide"
    }
   },
   "source": [
    "**Inicialización**\n",
    "\n",
    "Para un número especificado n de secciones, podemos resolver numéricamente una ecuación trascendente para encontrar $z_(n-1)$, el punto donde la cola infinita se encuentra con la última sección rectangular. Una vez conocemos $z_n$, podemos calcular el área común de las secciones y los otros puntos $z_k$.  También es posible dividir los rectángulos en dos porciones horizontalmente: la porción (generalmente más grande) de $0$ a $z_(k-1)$ que está completamente contenida dentro de la distribución deseada y llamamos porción central del Ziggurat, y la porción (pequeña) de $z_(k-1)$ a $z_k$, que está solo parcialmente contenida. De esta manera, se puede calcular $σ_k=z_(k-1)/z_k$, que es la fracción de las longitudes de las dos capas de rectángulos adyacentes en dirección horizontal. El borde derecho de la porción central es la línea de puntos en nuestra figura. El rectángulo superior no tiene región central y $σ_1=0$.\n",
    "\n",
    "El cálculo de los $z_k$ y $σ$ solo necesita realizarse una vez en la inicialización."
   ]
  },
  {
   "cell_type": "markdown",
   "metadata": {
    "slideshow": {
     "slide_type": "subslide"
    }
   },
   "source": [
    "**Algoritmo**\n",
    "\n",
    "Una vez realizada la inicialización, los números aleatorios se pueden generar rápidamente. Calculamos un entero aleatorio $j$, entre $1$ y $n$, con distribución uniforme para elegir una región y un número real aleatorio $u$, distribuido uniformemente entre $−1$ y $1$. Luego comprobamos para ver si $u<σ_j$, es decir si $u$ cae en la porción central de la sección $j$. Si es así, entonces sabemos que $u*z_j$ es la coordenada $x$ de un punto debajo de la función de densidad de probabilidad y este valor se puede devolver como una muestra de la distribución. El pseudocódigo resultante sería el siguiente:\n",
    "\n",
    " j = randint(1,n);\n",
    "  \tu = 2*rand()-1;\n",
    "  \tif u < sigma[j]\n",
    "     \t\tr = u*z[j];\n",
    "  \tend\n",
    "\n",
    "En el pseudo código anterior, la condición $u < sigma[j]$ se considera verdadera en la mayoría de los casos, y en caso contrario habría que realizar operaciones adicionales. Específicamente, hay tres casos posibles en los que la condición no se cumple: \n",
    "\n",
    "> 1. $j=1$, ya que el rectángulo superior no tiene porción central;  \n",
    "2. $2≤j≤(n-1)$ y $u*z_j$ cae fuera de la porción central (es decir, en el pequeño rectángulo que contiene la curva en el lado derecho);   \n",
    "3. $j=n$, $u*z_j$ cae en la cola fuera de la porción central inferior. \n",
    "\n",
    "En estos tres casos, es necesario realizar operaciones adicionales basadas en el **algoritmo de Box-Muller** utilizando los números aleatorios distribuidos uniformemente que se han generado para generar un número aleatorio según la distribución. Es fácil ver que cuanto mayor sea $n$, menos probable será la ocurrencia de estos tres casos que requieran operaciones adicionales. Según los datos proporcionados en el libro *Numerical Computing with MATLAB*, cuando $n=128$, la probabilidad de requerir operaciones adicionales es inferior al 3%, por lo que esta operación adicional tiene poco efecto sobre la eficiencia general del algoritmo de Ziggurat.\n"
   ]
  },
  {
   "cell_type": "markdown",
   "metadata": {
    "slideshow": {
     "slide_type": "subslide"
    }
   },
   "source": [
    "#### Comparación con otros métodos:\n",
    "\n",
    "**Método de rechazo**: La idea es simple y fácil de implementar, pero puede ser muy ineficiente por dos motivos:\n",
    "1. Se rechaza una gran proporción de muestras.  \n",
    "2. Se debe evaluar f(x) para cada punto candidato, lo cual es computacionalmente costoso para muchas funciones de distribución de probabilidad.\n",
    "\n",
    "**Método de inversión**: Es más complejo, usando directamente la función inversa de la función de distribución acumulativa (FDA) para generar números aleatorios. Además el cálculo implica una función de error más compleja que puede ser no primaria.\n",
    "\n",
    "**Box-Muller**: Ha sido un algoritmo muy utilizado para generar números aleatorios durante mucho tiempo. El algoritmo Box-Muller se caracteriza por una alta eficiencia y un proceso de cálculo relativamente simple (solo se utilizan funciones elementales), que requieren al menos un logaritmo y un cálculo de raíz cuadrada para los valores generados.\n",
    "\n",
    "**El algoritmo de Ziggurat**: Es muy eficiente y utilizado por muchos lenguajes de programación modernos. El algoritmo de Ziggurat es en realidad una versión mejorada del método de rechazo. Solo requiere generar aleatoriamente un entero y un real, seguido por una comparación, una operación de multiplicación y una búsqueda en una tabla para obtener un número aleatorio que obedezca a la distribución normal. En todo el proceso, no hay operaciones complicadas, como raíces cuadradas, logaritmos o funciones trigonométricas, al menos en la mayoría de los casos. Sin embargo, dado que el algoritmo de Ziggurat es más complejo de implementar, es mejor usarlo cuando se requieren grandes cantidades de números aleatorios.\n",
    "\n"
   ]
  },
  {
   "cell_type": "markdown",
   "metadata": {
    "slideshow": {
     "slide_type": "slide"
    }
   },
   "source": [
    "#### Creación de la tabla la distribución normal estándar\n",
    "\n",
    "Utilizando el algoritmo\tde Ziggurat obtener\tuna\taproximación de\tla tabla de\tla tabla de\tla distribución normal estándar.\t"
   ]
  },
  {
   "cell_type": "markdown",
   "metadata": {
    "slideshow": {
     "slide_type": "subslide"
    }
   },
   "source": [
    "Para poder entender de dónde provienen los valores de la tabla, es importante saber acerca de la función de densidad de probabilidad (FDP). Se utiliza esta FDP para especificar la probabilidad de que una variable aleatoria caiga dentro de un rango particular de valores, en lugar de tomar cualquier valor. Esta probabilidad viene dada por la integral de la FDP de la variable sobre el rango. La siguiente ecuación es la función de densidad de probabilidad para una distribución normal $N(μ,σ^2)$.\n",
    " $f(x|\\mu,\\sigma^2) = \\frac{1}{ \\sqrt{(2 \\pi \\sigma^2}} \\, e^{-\\frac{(x-\\mu^2)}{2 \\sigma^2}}$ \n",
    " \n",
    " La cual podemos simplificar tomando la distribución normal estándar de media (μ) 0 y desviación estándar (σ) 1.\n",
    " $f(x) = \\frac{1}{ \\sqrt{(2 \\pi}} \\, e^{-\\frac{(x^2)}{2}}$"
   ]
  },
  {
   "cell_type": "code",
   "execution_count": 2,
   "metadata": {
    "slideshow": {
     "slide_type": "skip"
    }
   },
   "outputs": [],
   "source": [
    "def pdf_standard_normal_distribution(x):\n",
    "    return (1 / (np.sqrt(2 * np.pi))) * np.exp((x ** 2) / -2)"
   ]
  },
  {
   "cell_type": "code",
   "execution_count": 3,
   "metadata": {
    "slideshow": {
     "slide_type": "subslide"
    }
   },
   "outputs": [
    {
     "data": {
      "image/png": "[encoded data removed]",
      "text/plain": [
       "<Figure size 1440x720 with 1 Axes>"
      ]
     },
     "metadata": {
      "needs_background": "light"
     },
     "output_type": "display_data"
    }
   ],
   "source": [
    "DOMAIN = 5\n",
    "N = 100\n",
    "TITLE_SIZE = 30\n",
    "FIGURE_SIZE = (20, 10)\n",
    "\n",
    "domain = np.linspace(-DOMAIN, DOMAIN, N) # return a domain from [0, 1] in 100 parts\n",
    "\n",
    "fig, ax = plt.subplots(figsize=(FIGURE_SIZE[0], FIGURE_SIZE[1]));\n",
    "\n",
    "# config\n",
    "ax.set_title('Normal Distribution', size = TITLE_SIZE);\n",
    "ax.set_ylabel('Probability Density', size = TITLE_SIZE);\n",
    "\n",
    "ax.plot(domain, list( # domain is the x axis and the rest y axis\n",
    "    map(\n",
    "        lambda x: pdf_standard_normal_distribution(x), \n",
    "        domain\n",
    "    )\n",
    "), color = 'b')\n",
    "\n",
    "plt.show()"
   ]
  },
  {
   "cell_type": "markdown",
   "metadata": {
    "slideshow": {
     "slide_type": "subslide"
    }
   },
   "source": [
    "La tabla de la normal estándar contiene los datos de la probabilidad de un evento dentro del intervalo $[0, z]$, es decir, el área bajo la curva normal estándar entre $0$ y $z$. El gráfico anterior no muestra la probabilidad de eventos, sino su densidad de probabilidad. Para encontrar el área, necesita integrarse. La integración del FDP proporciona una función de distribución acumulativa (FDA), que asigna valores a su rango de percentil en una distribución. Los valores de la tabla se calculan utilizando la función de distribución acumulativa de una distribución normal estándar con media 0 y desviación estándar 1. Esto se puede denotar con la siguiente ecuación.  \n",
    "  \n",
    "$\\int_{0}^{z}{\\frac{1}{2\\pi}}e^{\\frac{-x^2}{2}}dx$"
   ]
  },
  {
   "cell_type": "markdown",
   "metadata": {
    "slideshow": {
     "slide_type": "subslide"
    }
   },
   "source": [
    "En esta práctica vamos a utilizar el algoritmo de Ziggurat para crear la tabla. El primer paso es generar $n$ números aleatorios según la distribución normal utilizando el algoritmo. En nuestro caso, generamos 10000, cambiamos su signo aleatoriamente y los truncamos a 2 decimales. Después, establecemos un contador para calcular la acumulación de cada valor del número aleatorio y lo normalizamos. De esta manera, obtenemos la frecuencia de cada valor, la cual usamos como aproximación del valor correspondiente de la función de densidad. \n",
    "\n",
    "Con el objetivo de obtener la probabilidad acumulada dentro de un rango desde 0 hasta un valor $z$ del numero aleatorio, se suman todas las frecuencias calculadas de los valores de los números menores que $z$. En esta práctica, se han generado las 10 primeras filas de la tabla, es decir, se han calculado las probabilidades acumuladas de los valores $z$ desde 0 hasta 0.99. No se muestran las probabilidades para los $z$ negativos ya que $F(-z)=1-F(z)$."
   ]
  },
  {
   "cell_type": "code",
   "execution_count": 4,
   "metadata": {
    "scrolled": true,
    "slideshow": {
     "slide_type": "skip"
    }
   },
   "outputs": [
    {
     "data": {
      "image/png": "[encoded data removed]",
      "text/plain": [
       "<Figure size 1440x720 with 1 Axes>"
      ]
     },
     "metadata": {
      "needs_background": "light"
     },
     "output_type": "display_data"
    }
   ],
   "source": [
    "DOMAIN = 3\n",
    "N = 100\n",
    "POINT_SIZE = 50\n",
    "TITLE_SIZE = 30\n",
    "FIGURE_SIZE = (20, 10)\n",
    "\n",
    "domain = np.linspace(0, DOMAIN, N) # return a domain from [0, 1] in 100 parts\n",
    "\n",
    "divisions = [0, 0.8288, 1.1713, 1.4696, 1.7819, 2.1761]\n",
    "\n",
    "fig, ax = plt.subplots(figsize=(FIGURE_SIZE[0], FIGURE_SIZE[1]));\n",
    "\n",
    "# config\n",
    "ax.set_title('Normal Distribution', size = TITLE_SIZE);\n",
    "ax.set_ylabel('Probability Density', size = TITLE_SIZE);\n",
    "\n",
    "ax.plot(domain, list( # domain is the x axis and the rest y axis\n",
    "    map(\n",
    "        lambda x: pdf_standard_normal_distribution(x), \n",
    "        domain\n",
    "    )\n",
    "), color = 'b')\n",
    "currentAxis = plt.gca()\n",
    "\n",
    "for i in range(1, len(divisions)):\n",
    "    y = pdf_standard_normal_distribution(divisions[i]) # calculate its y axis value\n",
    "    y_prev = pdf_standard_normal_distribution(divisions[i - 1]) # calculate divisions i - 1 y axis value\n",
    "    \n",
    "    plt.scatter(divisions[i], y, s = POINT_SIZE) # draw point s is size\n",
    "    rect = patches.Rectangle((0, y), divisions[i], y_prev - y, linewidth = 1, edgecolor = 'r', fill = None) # draw rectangle\n",
    "    plt.plot([divisions[i - 1], divisions[i - 1]], [y_prev, y], color = '#BF7EBE', linewidth = 2, linestyle = 'dashed') # draw lines\n",
    "    \n",
    "    currentAxis.add_patch(rect) # add rectangle\n",
    "\n",
    "plt.show()\n",
    "plt.close()"
   ]
  },
  {
   "cell_type": "code",
   "execution_count": 5,
   "metadata": {
    "slideshow": {
     "slide_type": "subslide"
    }
   },
   "outputs": [
    {
     "data": {
      "image/png": "[encoded data removed]",
      "text/plain": [
       "<Figure size 432x288 with 1 Axes>"
      ]
     },
     "metadata": {
      "needs_background": "light"
     },
     "output_type": "display_data"
    }
   ],
   "source": [
    "bins = 50\n",
    "N = 10000\n",
    "\n",
    "random_numbers = zignor.randn(N)\n",
    "\n",
    "plt.figure()\n",
    "hist, bin_edges = np.histogram( random_numbers, bins )\n",
    "histNorm = hist / 1500 #TODO: encontrar una forma de calcular este 1500\n",
    "plt.plot( bin_edges[:-1], histNorm )\n",
    "plt.plot( bin_edges[:-1],\n",
    "          [pdf_standard_normal_distribution(x) for x in bin_edges[:-1]],\n",
    "          color = 'r' )\n",
    "plt.show()"
   ]
  },
  {
   "cell_type": "code",
   "execution_count": 6,
   "metadata": {
    "slideshow": {
     "slide_type": "subslide"
    }
   },
   "outputs": [
    {
     "data": {
      "image/png": "[encoded data removed]",
      "text/plain": [
       "<Figure size 1440x720 with 1 Axes>"
      ]
     },
     "metadata": {
      "needs_background": "light"
     },
     "output_type": "display_data"
    }
   ],
   "source": [
    "POINT_SIZE = 50\n",
    "N = 10000\n",
    "\n",
    "random_numbers = zignor.randn(N)\n",
    "\n",
    "counter = {}\n",
    "for rand in random_numbers:\n",
    "    round_rand_number = np.round(rand, 2) # round the number to 2 decimals\n",
    "    counter[round_rand_number] = counter.get(round_rand_number, 0) + 1\n",
    "    \n",
    "x_axis = sorted(list(counter.keys()))\n",
    "y_axis = list(map(lambda x : counter[x] / N * 100, x_axis))\n",
    "\n",
    "domain = np.linspace(-max(x_axis), max(x_axis), N)\n",
    "\n",
    "fig, ax = plt.subplots(figsize = (FIGURE_SIZE[0], FIGURE_SIZE[1]));\n",
    "\n",
    "ax.plot(x_axis, y_axis, color = 'b')\n",
    "\n",
    "ax.plot(domain, list( # domain is the x axis and the rest y axis\n",
    "    map(\n",
    "        lambda x: pdf_standard_normal_distribution(x), \n",
    "        domain\n",
    "    )\n",
    "), color = 'r', linewidth = 5)\n",
    "\n",
    "plt.show()"
   ]
  },
  {
   "cell_type": "code",
   "execution_count": 7,
   "metadata": {
    "slideshow": {
     "slide_type": "subslide"
    }
   },
   "outputs": [
    {
     "data": {
      "text/html": [
       "<div>\n",
       "<style scoped>\n",
       "    .dataframe tbody tr th:only-of-type {\n",
       "        vertical-align: middle;\n",
       "    }\n",
       "\n",
       "    .dataframe tbody tr th {\n",
       "        vertical-align: top;\n",
       "    }\n",
       "\n",
       "    .dataframe thead th {\n",
       "        text-align: right;\n",
       "    }\n",
       "</style>\n",
       "<table border=\"1\" class=\"dataframe\">\n",
       "  <thead>\n",
       "    <tr style=\"text-align: right;\">\n",
       "      <th></th>\n",
       "      <th>0.00</th>\n",
       "      <th>0.01</th>\n",
       "      <th>0.02</th>\n",
       "      <th>0.03</th>\n",
       "      <th>0.04</th>\n",
       "      <th>0.05</th>\n",
       "      <th>0.06</th>\n",
       "      <th>0.07</th>\n",
       "      <th>0.08</th>\n",
       "      <th>0.09</th>\n",
       "    </tr>\n",
       "  </thead>\n",
       "  <tbody>\n",
       "    <tr>\n",
       "      <th>0.0</th>\n",
       "      <td>0.4971</td>\n",
       "      <td>0.5007</td>\n",
       "      <td>0.5051</td>\n",
       "      <td>0.5081</td>\n",
       "      <td>0.5127</td>\n",
       "      <td>0.5163</td>\n",
       "      <td>0.5207</td>\n",
       "      <td>0.5246</td>\n",
       "      <td>0.5296</td>\n",
       "      <td>0.5335</td>\n",
       "    </tr>\n",
       "    <tr>\n",
       "      <th>0.1</th>\n",
       "      <td>0.5367</td>\n",
       "      <td>0.5415</td>\n",
       "      <td>0.5444</td>\n",
       "      <td>0.548</td>\n",
       "      <td>0.553</td>\n",
       "      <td>0.5581</td>\n",
       "      <td>0.5629</td>\n",
       "      <td>0.5658</td>\n",
       "      <td>0.5703</td>\n",
       "      <td>0.5742</td>\n",
       "    </tr>\n",
       "    <tr>\n",
       "      <th>0.2</th>\n",
       "      <td>0.5786</td>\n",
       "      <td>0.5823</td>\n",
       "      <td>0.5865</td>\n",
       "      <td>0.5907</td>\n",
       "      <td>0.5947</td>\n",
       "      <td>0.5991</td>\n",
       "      <td>0.6033</td>\n",
       "      <td>0.6063</td>\n",
       "      <td>0.6098</td>\n",
       "      <td>0.6131</td>\n",
       "    </tr>\n",
       "    <tr>\n",
       "      <th>0.3</th>\n",
       "      <td>0.6168</td>\n",
       "      <td>0.6211</td>\n",
       "      <td>0.6236</td>\n",
       "      <td>0.6266</td>\n",
       "      <td>0.63</td>\n",
       "      <td>0.634</td>\n",
       "      <td>0.6384</td>\n",
       "      <td>0.6419</td>\n",
       "      <td>0.646</td>\n",
       "      <td>0.6499</td>\n",
       "    </tr>\n",
       "    <tr>\n",
       "      <th>0.4</th>\n",
       "      <td>0.6541</td>\n",
       "      <td>0.6583</td>\n",
       "      <td>0.662</td>\n",
       "      <td>0.6664</td>\n",
       "      <td>0.6697</td>\n",
       "      <td>0.6734</td>\n",
       "      <td>0.6769</td>\n",
       "      <td>0.6802</td>\n",
       "      <td>0.6833</td>\n",
       "      <td>0.687</td>\n",
       "    </tr>\n",
       "    <tr>\n",
       "      <th>0.5</th>\n",
       "      <td>0.6914</td>\n",
       "      <td>0.6949</td>\n",
       "      <td>0.698</td>\n",
       "      <td>0.7021</td>\n",
       "      <td>0.7056</td>\n",
       "      <td>0.709</td>\n",
       "      <td>0.7125</td>\n",
       "      <td>0.7157</td>\n",
       "      <td>0.7195</td>\n",
       "      <td>0.7237</td>\n",
       "    </tr>\n",
       "    <tr>\n",
       "      <th>0.6</th>\n",
       "      <td>0.7278</td>\n",
       "      <td>0.7312</td>\n",
       "      <td>0.7347</td>\n",
       "      <td>0.7383</td>\n",
       "      <td>0.741</td>\n",
       "      <td>0.7442</td>\n",
       "      <td>0.7478</td>\n",
       "      <td>0.7514</td>\n",
       "      <td>0.7546</td>\n",
       "      <td>0.7579</td>\n",
       "    </tr>\n",
       "    <tr>\n",
       "      <th>0.7</th>\n",
       "      <td>0.761</td>\n",
       "      <td>0.7655</td>\n",
       "      <td>0.7686</td>\n",
       "      <td>0.771</td>\n",
       "      <td>0.7749</td>\n",
       "      <td>0.7782</td>\n",
       "      <td>0.7805</td>\n",
       "      <td>0.7842</td>\n",
       "      <td>0.7864</td>\n",
       "      <td>0.7886</td>\n",
       "    </tr>\n",
       "    <tr>\n",
       "      <th>0.8</th>\n",
       "      <td>0.7915</td>\n",
       "      <td>0.7935</td>\n",
       "      <td>0.7958</td>\n",
       "      <td>0.7976</td>\n",
       "      <td>0.8001</td>\n",
       "      <td>0.8021</td>\n",
       "      <td>0.8038</td>\n",
       "      <td>0.8073</td>\n",
       "      <td>0.8092</td>\n",
       "      <td>0.8113</td>\n",
       "    </tr>\n",
       "    <tr>\n",
       "      <th>0.9</th>\n",
       "      <td>0.8154</td>\n",
       "      <td>0.8181</td>\n",
       "      <td>0.8207</td>\n",
       "      <td>0.8237</td>\n",
       "      <td>0.8263</td>\n",
       "      <td>0.829</td>\n",
       "      <td>0.8303</td>\n",
       "      <td>0.8334</td>\n",
       "      <td>0.8359</td>\n",
       "      <td>0.8386</td>\n",
       "    </tr>\n",
       "  </tbody>\n",
       "</table>\n",
       "</div>"
      ],
      "text/plain": [
       "       0.00    0.01    0.02    0.03    0.04    0.05    0.06    0.07    0.08  \\\n",
       "0.0  0.4971  0.5007  0.5051  0.5081  0.5127  0.5163  0.5207  0.5246  0.5296   \n",
       "0.1  0.5367  0.5415  0.5444   0.548   0.553  0.5581  0.5629  0.5658  0.5703   \n",
       "0.2  0.5786  0.5823  0.5865  0.5907  0.5947  0.5991  0.6033  0.6063  0.6098   \n",
       "0.3  0.6168  0.6211  0.6236  0.6266    0.63   0.634  0.6384  0.6419   0.646   \n",
       "0.4  0.6541  0.6583   0.662  0.6664  0.6697  0.6734  0.6769  0.6802  0.6833   \n",
       "0.5  0.6914  0.6949   0.698  0.7021  0.7056   0.709  0.7125  0.7157  0.7195   \n",
       "0.6  0.7278  0.7312  0.7347  0.7383   0.741  0.7442  0.7478  0.7514  0.7546   \n",
       "0.7   0.761  0.7655  0.7686   0.771  0.7749  0.7782  0.7805  0.7842  0.7864   \n",
       "0.8  0.7915  0.7935  0.7958  0.7976  0.8001  0.8021  0.8038  0.8073  0.8092   \n",
       "0.9  0.8154  0.8181  0.8207  0.8237  0.8263   0.829  0.8303  0.8334  0.8359   \n",
       "\n",
       "       0.09  \n",
       "0.0  0.5335  \n",
       "0.1  0.5742  \n",
       "0.2  0.6131  \n",
       "0.3  0.6499  \n",
       "0.4   0.687  \n",
       "0.5  0.7237  \n",
       "0.6  0.7579  \n",
       "0.7  0.7886  \n",
       "0.8  0.8113  \n",
       "0.9  0.8386  "
      ]
     },
     "execution_count": 7,
     "metadata": {},
     "output_type": "execute_result"
    }
   ],
   "source": [
    "standard_normal_table = pd.DataFrame(\n",
    "    data =[],\n",
    "    index = np.round(np.arange(0, 1, .1), 2),\n",
    "    columns = np.round(np.arange(0.00, .1, .01), 2)\n",
    ")\n",
    "\n",
    "for index in standard_normal_table.index:\n",
    "    for column in standard_normal_table.columns:\n",
    "        z = np.round(index+column, 2)\n",
    "        value = 0\n",
    "        for k in np.round(np.arange(min( random_numbers ), z, .01), 2):\n",
    "            if counter.get( k ) is not None:\n",
    "                value = value + counter.get(k)\n",
    "        standard_normal_table.loc[index, column] = value / N\n",
    "        \n",
    "standard_normal_table.index = standard_normal_table.index.astype(str)\n",
    "standard_normal_table.columns = [str(column).ljust(4, '0') for column in standard_normal_table.columns]\n",
    "\n",
    "standard_normal_table"
   ]
  },
  {
   "cell_type": "code",
   "execution_count": null,
   "metadata": {},
   "outputs": [],
   "source": []
  },
  {
   "cell_type": "markdown",
   "metadata": {
    "slideshow": {
     "slide_type": "skip"
    }
   },
   "source": [
    "### 2. Simulación de sucesos discretos.\n",
    "Llegan petroleros para descargar en el muelle según un proceso de Poisson no homogéneo con la siguiente tasa:"
   ]
  },
  {
   "cell_type": "code",
   "execution_count": 8,
   "metadata": {
    "slideshow": {
     "slide_type": "skip"
    }
   },
   "outputs": [
    {
     "data": {
      "image/png": "[encoded data removed]",
      "text/plain": [
       "<Figure size 432x288 with 1 Axes>"
      ]
     },
     "metadata": {
      "needs_background": "light"
     },
     "output_type": "display_data"
    }
   ],
   "source": [
    "POINT_SIZE = 50\n",
    "\n",
    "values = [(0, 5), (5, 7), (8, 6), (15, 9), (17, 6), (24, 5)]\n",
    "x_axis = list(map(lambda x : x[0], values))\n",
    "y_axis = list(map(lambda y : y[1], values))\n",
    "\n",
    "fig, ax = plt.subplots()\n",
    "plt.plot(x_axis, y_axis, color = 'b')\n",
    "for i in values:\n",
    "    plt.scatter(i[0], i[1], s = POINT_SIZE) # draw point s is size\n",
    "    ax.annotate(\"(\" + str(i[0]) + \", \" + str(i[1]) + \")\", (i[0], i[1])) # add labels\n",
    "    plt.plot([i[0], i[0]], [0, i[1]], color = 'black', linewidth = 1, linestyle = 'dashed') # draw vertical lines\n",
    "    plt.plot([0, i[0]], [i[1], i[1]], color = 'black', linewidth = 1, linestyle = 'dashed') # draw horizontal lines\n",
    "plt.show()\n"
   ]
  },
  {
   "cell_type": "markdown",
   "metadata": {
    "slideshow": {
     "slide_type": "skip"
    }
   },
   "source": [
    "El petrolero llega hasta la entrada del puerto, y espera a que un remolcador \n",
    "esté disponible y lo lleve hasta el muelle. Se disponen en el puerto de 10 \n",
    "remolcadores."
   ]
  },
  {
   "cell_type": "markdown",
   "metadata": {
    "slideshow": {
     "slide_type": "skip"
    }
   },
   "source": [
    "Los remolcadores también realizan la labor de llevar cada petrolero hasta la \n",
    "entrada del puerto tras haber descargado. En el fichero “desplazamientos.txt”\n",
    "se dispone de una muestra de las duraciones de los desplazamientos del\n",
    "remolcador con el petrolero. Contrástese si la distribución de dichos tiempos es\n",
    "normal (truncada), uniforme o exponencial y estímense los parámetros de la\n",
    "distribución correspondiente."
   ]
  },
  {
   "cell_type": "code",
   "execution_count": 9,
   "metadata": {},
   "outputs": [],
   "source": [
    "# input data\n",
    "file= open('docs/data/E8.desplazamientos.txt')\n",
    "data_desplazamiento= np.loadtxt(file, unpack='true')\n",
    "file.close()"
   ]
  },
  {
   "cell_type": "code",
   "execution_count": 10,
   "metadata": {},
   "outputs": [
    {
     "data": {
      "text/plain": [
       "KstestResult(statistic=0.01035501786004428, pvalue=0.6571586727422323)"
      ]
     },
     "execution_count": 10,
     "metadata": {},
     "output_type": "execute_result"
    }
   ],
   "source": [
    "#  scipy.stats.kstest(rvs, cdf, args=(), N=20, alternative='two_sided', mode='approx', **kwds)\n",
    "# rvs --> test data; cdf --> distribution type，'norm'，'expon'，'rayleigh'，'gamma'；args=() distribution parametric\n",
    "# N: if vs is string，N is the size of sample\n",
    "# if p-value is bigger than the level of significance（5％），accept H0，The sample data can be considered to be from a given distribution F(x)\n",
    "loc, scale = norm.fit(data_desplazamiento)\n",
    "n = norm(loc=loc, scale=scale)\n",
    "stats.kstest(data_desplazamiento, n.cdf)"
   ]
  },
  {
   "cell_type": "markdown",
   "metadata": {},
   "source": [
    "$D_{n}^{+}=\\max(F_{n}(x)-F(x))$\n",
    "\n",
    "By the Glivenko–Cantelli theorem, if the sample comes from distribution F(x), then Dn converges to 0 almost surely in the limit when n goes to infinity.\n",
    "\n",
    "kstest(rvs, cdf, args=(), N=20, alternative=’two_sided’, mode=’approx’, **kwds)\n",
    "\n",
    "alternative：default as two-sided test，also can be ‘less’ o ‘greater’ for one-sided test\n",
    "\n",
    "https://docs.scipy.org/doc/scipy-0.14.0/reference/generated/scipy.stats.kstest.html"
   ]
  },
  {
   "cell_type": "code",
   "execution_count": 11,
   "metadata": {},
   "outputs": [
    {
     "data": {
      "text/plain": [
       "KstestResult(statistic=0.2177462278558, pvalue=2.43873358745901e-206)"
      ]
     },
     "execution_count": 11,
     "metadata": {},
     "output_type": "execute_result"
    }
   ],
   "source": [
    "loc, scale = uniform.fit(data_desplazamiento)\n",
    "u = uniform(loc=loc, scale=scale)\n",
    "stats.kstest(data_desplazamiento, u.cdf)"
   ]
  },
  {
   "cell_type": "code",
   "execution_count": 12,
   "metadata": {},
   "outputs": [
    {
     "data": {
      "text/plain": [
       "KstestResult(statistic=0.3581258415266688, pvalue=0.0)"
      ]
     },
     "execution_count": 12,
     "metadata": {},
     "output_type": "execute_result"
    }
   ],
   "source": [
    "loc, scale = expon.fit(data_desplazamiento)\n",
    "ex = expon(loc=loc, scale=scale)\n",
    "stats.kstest(data_desplazamiento, ex.cdf)"
   ]
  },
  {
   "cell_type": "code",
   "execution_count": 13,
   "metadata": {},
   "outputs": [
    {
     "name": "stdout",
     "output_type": "stream",
     "text": [
      "Mu: 10.007615178514001\n",
      "Sigma: 3.0373964893054275\n"
     ]
    }
   ],
   "source": [
    "# method of moments --> estimate parametrics of a normal distribution\n",
    "mu = np.mean(data_desplazamiento)\n",
    "sigma = np.std(data_desplazamiento)\n",
    "print(\"Mu: \" + str(mu))\n",
    "print(\"Sigma: \" + str(sigma))"
   ]
  },
  {
   "cell_type": "code",
   "execution_count": 14,
   "metadata": {},
   "outputs": [
    {
     "data": {
      "text/plain": [
       "AndersonResult(statistic=1106.7655637247299, critical_values=array([0.922, 1.078, 1.341, 1.606, 1.957]), significance_level=array([15. , 10. ,  5. ,  2.5,  1. ]))"
      ]
     },
     "execution_count": 14,
     "metadata": {},
     "output_type": "execute_result"
    }
   ],
   "source": [
    "stats.anderson(data_desplazamiento, dist='expon')"
   ]
  },
  {
   "cell_type": "markdown",
   "metadata": {
    "slideshow": {
     "slide_type": "skip"
    }
   },
   "source": [
    "Cuando el remolcador va de vacío (sin remolcar) la distribución es también \n",
    "normal pero con media de 2 minutos y desviación típica 1. "
   ]
  },
  {
   "cell_type": "markdown",
   "metadata": {
    "slideshow": {
     "slide_type": "skip"
    }
   },
   "source": [
    "Existe un número limitado de 20 muelles donde pueden atracar los \n",
    "petroleros. El tiempo de descarga de cada petrolero tiene una distribución \n",
    "chi cuadrado con 2 grados de libertad, expresada en horas. "
   ]
  },
  {
   "cell_type": "markdown",
   "metadata": {
    "slideshow": {
     "slide_type": "skip"
    }
   },
   "source": [
    "El remolcador da prioridad a los petroleros que llegan sobre los que \n",
    "abandonan el puerto.\n",
    "A. Simule el comportamiento del puerto para estimar el tiempo medio \n",
    "que tardan en atracar los barcos, el tiempo máximo en atracar, el \n",
    "número medio de barcos atracados en el puerto y el número medio y \n",
    "máximo de barcos esperando a atracar.\n",
    "B. Analice la posibilidad de disponer de 3 nuevos remolcadores y \n",
    "realizar obras para disponer de 5 nuevos muelles ¿cuál de las dos \n",
    "opciones es mejor?"
   ]
  },
  {
   "cell_type": "markdown",
   "metadata": {
    "slideshow": {
     "slide_type": "skip"
    }
   },
   "source": [
    "Una distribución de Poisson da la probabilidad de varios eventos en un intervalo generado por un proceso de Poisson. La distribución de Poisson se define mediante el parámetro de velocidad, λ, que es el número esperado de eventos en el intervalo (eventos / intervalo * duración del intervalo) y el número más alto de probabilidad de eventos. También podemos usar la Distribución de Poisson para encontrar el tiempo de espera entre eventos. Incluso si llegamos a un tiempo aleatorio, el tiempo de espera promedio siempre será el tiempo promedio entre eventos.\n"
   ]
  },
  {
   "cell_type": "code",
   "execution_count": 15,
   "metadata": {},
   "outputs": [],
   "source": [
    "# Params\n",
    "\n",
    "LOG_FILE = 'ports.log'\n",
    "# Num of tugs available\n",
    "MAXTUGS = 10\n",
    "# Num of wharves available\n",
    "MAXWHARVES = 20\n",
    "# Max time\n",
    "T = 7 * 24 * 60 # 7 days\n",
    "TUG_MU_EMPTY = 2\n",
    "TUG_SIGMA_EMPTY = 1\n",
    "TUG_MU_FULL = mu\n",
    "TUG_SIGMA_FULL = sigma\n",
    "WHARVE_FREEDOM_DEGREE = 2"
   ]
  },
  {
   "cell_type": "code",
   "execution_count": 16,
   "metadata": {},
   "outputs": [],
   "source": [
    "def minutesToTime(minutes):\n",
    "    hours = int(minutes / 60)\n",
    "    seconds = int( (minutes - int(minutes)) * 60)\n",
    "    minutes = int(minutes - hours * 60)\n",
    "    days = int(hours/24)\n",
    "    hours = hours - days*24\n",
    "    return str(days) + \"d \" + str(hours) + \"h \" + str(minutes) + \"min \" + str(seconds) + \"s\""
   ]
  },
  {
   "cell_type": "code",
   "execution_count": 17,
   "metadata": {
    "slideshow": {
     "slide_type": "skip"
    }
   },
   "outputs": [],
   "source": [
    "# Returns the poisson proccess rate\n",
    "# t: time in minutes along a month\n",
    "# As t could be any minute in a month, we need to get the t in minutes in the day\n",
    "\n",
    "def getPoissonRate(t):\n",
    "    lambd = 0\n",
    "    h_in_day = (t / 60.0) % 24.0\n",
    "    if h_in_day >= 0.0 and h_in_day < 5.0:\n",
    "        lambd = 2.0 / 5.0 * h_in_day + 5.0\n",
    "    elif h_in_day >= 5.0 and h_in_day < 8.0:\n",
    "        lambd = -1.0 / 3.0 * h_in_day + 26.0 / 3.0\n",
    "    elif h_in_day >= 8.0 and h_in_day < 15.0:\n",
    "        lambd = 3.0 / 7.0 * h_in_day + 18.0 / 7.0\n",
    "    elif h_in_day >= 15.0 and h_in_day < 17.0:\n",
    "        lambd = -3.0 / 2.0 * h_in_day + 63.0/2.0\n",
    "    elif h_in_day >= 17.0 and h_in_day < 24.0:\n",
    "        lambd = -1.0 / 7.0 * h_in_day + 59.0 / 7.0\n",
    "    else: \n",
    "        logging.error(\"lambda out of index\")\n",
    "    return lambd;\n",
    "\n",
    "# used for poisson distribution and exponential distribution\n",
    "    "
   ]
  },
  {
   "cell_type": "code",
   "execution_count": 18,
   "metadata": {},
   "outputs": [],
   "source": [
    "# Enumeracion que contiene los tipos de eventos posibles\n",
    "class Events(Enum):  \n",
    "    TANKER_ARRIVAL = 0 # Indica la entrada de un barco al puerto.\n",
    "    TUG_TO_PORT_EMPTY = 1 # Remolcador llega a puerto sin barco\n",
    "    TUG_TO_PORT_FULL = 2 # Remolcador llega a puerto con barco\n",
    "    TUG_TO_WHARVE_EMPTY = 3 # Remolcador llega a muelle sin barco\n",
    "    TUG_TO_WHARVE_FULL = 4 # Remolcador llega a muelle con barco\n",
    "    TANKER_UNLOADED = 5 # Barco descargado\n",
    "\n",
    "# Clase para guardar una lista de eventos. Cada elemento es una tupla con\n",
    "# el momento en el que ocurre el evento y el tipo de evento.\n",
    "class ListEvents():\n",
    "    L = []\n",
    "    \n",
    "    def __init__( self ):\n",
    "        self.L = []\n",
    "    \n",
    "    # Para ordenar la lista con la funcion sorted(), devuelve el momento del evento\n",
    "    def comparator(self, value):\n",
    "        return value[1]\n",
    "    \n",
    "    # Returns the size of the list\n",
    "    def size(self):\n",
    "        return len(self.L)\n",
    "    \n",
    "    # Anade un evento a partir del momento y el tipo. Ademas ordena la\n",
    "    # lista para que los eventos queden en orden cronologico.\n",
    "    def push(self, event_type, time, tank_id = None):\n",
    "        self.L.append((event_type, time, tank_id))\n",
    "        self.L = sorted(self.L, key = self.comparator)\n",
    "    \n",
    "    # Saca y devuelve el primer elemento de la lista.\n",
    "    def pop(self):\n",
    "        event, event_time, tank_id = self.L[0]\n",
    "        self.L = self.L[1:]\n",
    "        return event, event_time, tank_id"
   ]
  },
  {
   "cell_type": "code",
   "execution_count": 19,
   "metadata": {},
   "outputs": [
    {
     "ename": "SyntaxError",
     "evalue": "invalid syntax (<ipython-input-19-65e7d0f20406>, line 15)",
     "output_type": "error",
     "traceback": [
      "\u001b[0;36m  File \u001b[0;32m\"<ipython-input-19-65e7d0f20406>\"\u001b[0;36m, line \u001b[0;32m15\u001b[0m\n\u001b[0;31m    \"\"\"\u001b[0m\n\u001b[0m       \n^\u001b[0m\n\u001b[0;31mSyntaxError\u001b[0m\u001b[0;31m:\u001b[0m invalid syntax\n"
     ]
    }
   ],
   "source": [
    "class ListTankers:\n",
    "    def __init__(self):\n",
    "        self.L = []\n",
    "        \n",
    "    def add(self, time_event):\n",
    "        tank = {\n",
    "            \"id\": len(self.L),\n",
    "            \"arrival_time\": time_event\n",
    "            \"\"\",\n",
    "            \"entrance_pick_by_tug_time\" : -1,\n",
    "            \"wharve_arrival_time\" : -1,\n",
    "            \"wharve_unload_done_time\" : -1,\n",
    "            \"wharve_pick_by_tug_time\" : -1,\n",
    "            \"exit_time\" : -1\n",
    "            \"\"\"\n",
    "        }\n",
    "        self.L.append(tank)\n",
    "        return tank\n",
    "    \n",
    "    def get(self, tank_id):\n",
    "        return self.L[tank_id]\n",
    "    \n",
    "    def toString(self):\n",
    "        return list(\n",
    "            map(\n",
    "                lambda tanker: \"xxx\", #TODO\n",
    "                self.L\n",
    "            )\n",
    "        )"
   ]
  },
  {
   "cell_type": "code",
   "execution_count": null,
   "metadata": {},
   "outputs": [],
   "source": [
    "class ListTugs():\n",
    "    L = []\n",
    "    \n",
    "    def __init__(self, max_tugs):\n",
    "        self.max_tugs = max_tugs\n",
    "        self.L = list(\n",
    "            map(\n",
    "                lambda i : {\n",
    "                    \"id\": i,\n",
    "                    \"status\": \"at_port\",\n",
    "                    \"carry\": None # if carrying tanker\n",
    "                },\n",
    "                list(range(max_tugs))\n",
    "            )\n",
    "        ) \n",
    "        \n",
    "    def getTugsWithStatus(self, status): # status es list de strings\n",
    "        return list(\n",
    "            filter(\n",
    "                lambda tug: tug[\"status\"] in status,\n",
    "                self.L\n",
    "            )\n",
    "        )\n",
    "    \n",
    "    def get(self, index):\n",
    "        return self.L[index]\n",
    "    \n",
    "    def toString(self):\n",
    "        return list(\n",
    "            map(\n",
    "                lambda tug: \"xxx\", #TODO\n",
    "                self.L\n",
    "            )\n",
    "        )\n",
    "    "
   ]
  },
  {
   "cell_type": "code",
   "execution_count": null,
   "metadata": {},
   "outputs": [],
   "source": [
    "class ListWharves():\n",
    "    L = []\n",
    "    \n",
    "    def __init__(self, max_wharves):\n",
    "        self.max_wharves = max_wharves\n",
    "        self.L = list(\n",
    "            map(\n",
    "                lambda i : {\n",
    "                    \"id\": i,\n",
    "                    \"unloading\": None # if unloading tanker\n",
    "                },\n",
    "                list(range(max_wharves))\n",
    "            )\n",
    "        ) \n",
    "        \n",
    "    def getEmpty(self):\n",
    "        return list(\n",
    "            filter(\n",
    "                lambda wharve: wharve[\"unloading\"] is None\n",
    "                self.L\n",
    "            )\n",
    "        )\n",
    "    \n",
    "    def toString(self):\n",
    "        return list(\n",
    "            map(\n",
    "                lambda wharve: \"xxx\", #TODO\n",
    "                self.L\n",
    "            )\n",
    "        )\n",
    "    \n",
    "    def getByUnloading(self, unloading):\n",
    "        for i in self.L:\n",
    "            if i[\"unloading\"] == unloading:\n",
    "                return i\n",
    "        return -1"
   ]
  },
  {
   "cell_type": "code",
   "execution_count": null,
   "metadata": {},
   "outputs": [],
   "source": [
    "# Clase para las simulaciones del ejercicio 2\n",
    "class Simulation:\n",
    "    def __init__(\n",
    "        self, \n",
    "        tug_mu_empty = TUG_MU_EMPTY, \n",
    "        tug_sigma_empty = TUG_SIGMA_EMPTY, \n",
    "        tug_mu_full = TUG_MU_FULL, \n",
    "        tug_sigma_full = TUG_SIGMA_FULL, \n",
    "        wharve_freedom_degree = WHARVE_FREEDOM_DEGREE, \n",
    "        max_tugs = MAXTUGS, \n",
    "        max_wharves = MAXWHARVES,\n",
    "        max_time = T\n",
    "    ):\n",
    "        logging.info(\"Simulation parameters initialization ...\")\n",
    "        \n",
    "        self.tug_mu_empty = tug_mu_empty\n",
    "        self.tug_sigma_empty = tug_sigma_empty\n",
    "        self.tug_mu_full = tug_mu_full\n",
    "        self.tug_sigma_full = tug_sigma_full\n",
    "        self.wharve_freedom_degree = wharve_freedom_degree\n",
    "        \n",
    "        self.list_events = ListEvents()\n",
    "        \n",
    "        self.list_tankers = ListTankers()\n",
    "        self.list_tugs = ListTugs(max_tugs)\n",
    "        self.list_wharves = ListWharves(max_wharves)\n",
    "        \n",
    "        self.tankers_waiting_entrance = []\n",
    "        self.tankers_finished_unloading = []\n",
    "        self.tankers_exit = []\n",
    "        \n",
    "        self.time = 0.0\n",
    "        self.max_time = max_time\n",
    "        \n",
    "        self.max_tugs = max_tugs\n",
    "        self.max_wharves = max_wharves\n",
    "        \n",
    "        # statistics\n",
    "        self.mean_time_to_dock = 0.0 # Tiempo medio que tarda un barco para llegar al muelle\n",
    "        self.max_time_to_dock = 0.0 # Tiempo maximo que tarda un barco para llegar al muelle\n",
    "        self.mean_tankers_docked = 0.0 # Numero medio de barcos en los muelles\n",
    "        self.mean_tankers_wait_at_entrance = 0.0 # Numero medio de barcos esperando en la entrada\n",
    "        self.max_tankers_wait_at_entrance = 0 # Numero maximo de barcos esperando en la entrada\n",
    "        \n",
    "        logging.info(\"Simulation parameters initialized\")\n",
    "        \n",
    "    # Funcion para empezar la simulacion\n",
    "    def simulate(self):\n",
    "        logging.info(\"Simulation starting ...\")\n",
    "        \n",
    "        # Calculamos la llegada del primer barco.\n",
    "        x = 60 * random.expovariate(getPoissonRate(self.time))\n",
    "        \n",
    "        # Si el primer barco llega despues del final de la simulacion,\n",
    "        # devuelve error\n",
    "        if x > self.max_time:\n",
    "            logging.error(\"No tankers arrived during simulation time. Ending...\")\n",
    "            return -1\n",
    "        else:\n",
    "            # Add the first event (the first tank arrival)\n",
    "            self.list_events.push(self.time + x, Events.TANKER_ARRIVAL)\n",
    "            # Bucle principal en el que se tratan eventos durante el\n",
    "            # tiempo de simulacion.\n",
    "            while self.list_events.size() > 0:\n",
    "                # Tomamos el proximo evento\n",
    "                event, time_event, tank_id, tug_id =  self.list_events.pop()\n",
    "                \n",
    "                # self.mean_tankers_docked += self.tankers_wharves.size() * (time_event - self.time)\n",
    "                # self.mean_tankers_wait_at_entrance += len(self.tankers_waiting_entrance) * (time_event - self.time)\n",
    "                # self.max_tankers_wait_at_entrance = max(len( self.tankers_waiting_entrance), self.max_tankers_wait_at_entrance)\n",
    "                \n",
    "                self.time = time_event\n",
    "                \n",
    "                # Llamamos a diferentes rutinas segun el tipo de evento\n",
    "                if event == Events.TANKER_ARRIVAL:\n",
    "                    self.tankerArrival()\n",
    "                if event == Events.TUG_TO_PORT_EMPTY:\n",
    "                    self.tugToPortEmpty(tug_id)\n",
    "                if event == Events.TUG_TO_PORT_FULL:\n",
    "                    self.tugToPortFull(tanker_id, tug_id)\n",
    "                if event == Events.TUG_TO_WHARVE_EMPTY:\n",
    "                    self.tugToWharveEmpty(tug_id)\n",
    "                if event == Events.TUG_TO_WHARVE_FULL:\n",
    "                    self.tugToWharveFull(tanker_id, tug_id)\n",
    "                if event == Events.TANKER_UNLOADED:\n",
    "                    self.tankerUnloaded(tanker_id)\n",
    "                    \n",
    "                # logging.info(\"Tugs: \" + str(self.tankers_tugs.L))\n",
    "                # logging.info(\"Wharves: \" + str(self.tankers_wharves.L))\n",
    "                # logging.info(\"Waiting at entrance: \" + str(self.tankers_waiting_entrance))\n",
    "                # logging.info(\"Waiting at wharve: \" + str(self.tankers_finished_unloading))\n",
    "                # logging.info(\"Tankers finished: \" + str(self.tankers_exit))\n",
    "\n",
    "            # for i in self.list_tankers.L:\n",
    "            #     dock_time = i[\"wharve_arrival_time\"] - i[\"arrival_time\"]\n",
    "            #     self.max_time_to_dock = max(self.max_time_to_dock, dock_time)\n",
    "            #     self.mean_time_to_dock += dock_time\n",
    "\n",
    "            # self.mean_time_to_dock /= len(self.list_tankers.L)\n",
    "            # self.mean_tankers_docked /= self.time\n",
    "            # self.mean_tankers_wait_at_entrance /= self.time\n",
    "            \n",
    "            # logging.info(\"\")\n",
    "            # logging.info(\"mean_time_to_dock: \" + str(self.mean_time_to_dock))\n",
    "            # logging.info(\"max_time_to_dock: \" + str(self.max_time_to_dock))\n",
    "            # logging.info(\"mean_tankers_docked: \" + str(self.mean_tankers_docked))\n",
    "            # logging.info(\"mean_tankers_wait_at_entrance: \" + str(self.mean_tankers_wait_at_entrance))\n",
    "            # logging.info(\"max_tankers_wait_at_entrance: \" + str(self.max_tankers_wait_at_entrance))\n",
    "            # logging.info(\"\")\n",
    "                    \n",
    "            return 0\n",
    "        \n",
    "    def tankerArrival(self):\n",
    "        tanker = self.list_tankers.add(self.time)\n",
    "        \n",
    "        logging.info(str(self.time) + \" --- \" + minutesToTime(self.time) + \": TANKER \" + str(tank[\"id\"]) + \" arrived at port\")\n",
    "        \n",
    "        x = 60 * random.expovariate(getPoissonRate(self.time))\n",
    "        if self.time + x > self.max_time:\n",
    "            logging.info( \"End of tanker arrivals.\" )\n",
    "        else:    \n",
    "            self.list_events.add(self.time + x, Events.TANKER_ARRIVAL)\n",
    "        \n",
    "        self.tankers_waiting_entrance.append(tanker[\"id\"])\n",
    "        \n",
    "        if len(self.list_tugs.getTugsWithStatus([\"at_port\"])) > 0 and len(self.list_wharves.getEmpty()) > 0:\n",
    "            y = random.normalvariate(self.tug_mu_full, self.tug_sigma_full)\n",
    "            tug_available = self.list_tugs.getTugsWithStatus([\"at_port\"])[0] \n",
    "            tug_available[\"carry\"] = self.tankers_waiting_entrance[0]\n",
    "            tug_available[\"status\"] = \"to_wharve\"\n",
    "            self.list_events.add(self.time+y, Events.TUG_TO_WHARVE_FULL, tug_available[\"carry\"], tug_available[\"id\"])\n",
    "            logging.info(\"Tug \" +  str(tug_available[\"id\"]) + \" tugging tanker \" + str(tug_available[\"carry\"]) + \" to wharve\")\n",
    "            \n",
    "            w = self.list_wharves.getByUnloading(None)\n",
    "            w[\"unloading\"] = self.tankers_waiting_entrance[0]\n",
    "            self.tankers_waiting_entrance = self.tankers_waiting_entrance[:1]\n",
    "            \n",
    "        elif len(self.list_wharves.getEmpty()) > 0 and len(self.list_tugs.getTugsWithStatus([\"to_port\", \"to_wharve\"])) == 0:\n",
    "            y = random.normalvariate(self.tug_mu_empty, self.tug_sigma_empty)\n",
    "            self.list_events.add(self.time+y, Events.TUG_TO_PORT_EMPTY)\n",
    "            tug_available = self.list_tugs.getTugsWithStatus([\"at_wharve\"])[0]\n",
    "            tug_available[\"status\"] = \"to_port\"\n",
    "            self.list_events.add(self.time+y, Events.TUG_TO_PORT_EMPTY, None, tug_available[\"id\"])\n",
    "            logging.info(\"Tug \" + str(tug_available[\"id\"]) + \" going to port\")\n",
    "      \n",
    "        \n",
    "    \n",
    "    def tugToPortEmpty(self, tug_id):\n",
    "        tug = self.list_tugs.get(tug_id)\n",
    "        if len(self.tankers_waiting_entrace) > 0 and len(self.list_wharves.getEmpty()) > 0:\n",
    "            y = random.normalvariate(self.tug_mu_full, self.tug_sigma_full)\n",
    "            self.list_events.add(self.time+y, Events.TUG_TO_WHARVE_FULL,)\n",
    "            tanker_id = self.tankers_waiting_entrance[0]\n",
    "            tug[\"carry\"] = tanker_id\n",
    "            tug[\"status\"] = \"to_wharve\"\n",
    "            self.tankers_waiting_entrance = self.tankers_waiting_entrance[:1]\n",
    "            self.list_events.add(self.time+y, Events.TUG_TO_WHARVE_FULL, tanker_id, tug_id)\n",
    "            logging.info(\"Tug \" +  str(tug_id) + \" tugging tanker \" + str(tanker_id) + \" to wharve\")\n",
    "        elif len(self.tankers_finished_unloading)  > 0:\n",
    "            y = random.normalvariate(self.tug_mu_empty, self.tug_sigma_empty)\n",
    "            self.list_events.add(self.time+y, Events.TUG_TO_WHARVE_EMPTY, None, tug_id)\n",
    "            logging.info(\"Tug \" +  str(tug_id) + \" going to wharve\")\n",
    "            tug[\"status\"] = \"to_wharve\"\n",
    "        else:\n",
    "            tug[\"status\"] = \"at_port\"\n",
    "        \n",
    "         \"\"\"\n",
    "         else:\n",
    "            availables = len(self.list_tugs.getTugsWithStatus([\"at_port\", \"at_wharve\"]))\n",
    "            y = random.normalvariate(self.tug_mu_empty, self.tug_sigma_empty)\n",
    "            if len(self.list_tugs.getTugsWithStatus([\"at_port\"])) < availables / 2:\n",
    "                tug[\"status\"] = \"at_port\"\n",
    "            else: \n",
    "                self.list_events.add(self.time+y, Events.TUG_TO_PORT_EMPTY, None, tug_id)\n",
    "                logging.info(\"More empty tugs at port. Tug \" +  str(tug_id) + \" going to wharve\")\n",
    "                tug[\"status\"] = \"to_wharve\" \n",
    "            \"\"\"\n",
    "       \n",
    "            \n",
    "    \n",
    "    def tugToPortFull(self, tanker_id, tug_id):\n",
    "        tug = self.list_tugs.get(tug_id)\n",
    "        tug[\"carry\"] = None\n",
    "        tug[\"status\"] = \"at_port\"\n",
    "        logging.info(str(self.time) + \" --- \" + minutesToTime(self.time) + \": TANKER \" + str(tanker_id) + \" back to sea\")\n",
    "        # self.tugToPortEmpty(tug_id)\n",
    "        \n",
    "        \n",
    "    \n",
    "    def tugToWharveEmpty(self, tug_id):\n",
    "        tug = self.list_tugs.get(tug_id)\n",
    "        if len(self.tankers_waiting_entrace) > 0 and len(self.list_wharves.getEmpty()) > 0:\n",
    "            y = random.normalvariate(self.tug_mu_empty, self.tug_sigma_empty)\n",
    "            self.list_events.add(self.time+y, Events.TUG_TO_PORT_EMPTY, None, tug_id)\n",
    "            logging.info(\"Tug \" +  str(tug_id) + \" going to port\")\n",
    "            #tug = self.list_tugs.getTugsWithStatus([\"at_port\"])[0]\n",
    "            tug[\"status\"] = \"to_port\"\n",
    "        elif len(self.tankers_finished_unloading)  > 0:\n",
    "            y = random.normalvariate(self.tug_mu_full, self.tug_sigma_full)\n",
    "            tanker_id = self.tankers_finished_unloading[0]\n",
    "            tug[\"carry\"] = tanker_id\n",
    "            tug[\"status\"] = \"to_port\"\n",
    "            self.list_events.add(self.time+y, Events.TUG_TO_PORT_FULL, tanker_id, tug_id)\n",
    "            logging.info(\"Tug \" + \"str(tug_id)\" + \" tugging tanker \" + str(tanker_id) + \" to port\")\n",
    "            w =self.list_wharves.getByUnloading(self.tankers_finished_unloading[0])\n",
    "            w[\"unloading\"] = None\n",
    "            self.tankers_finished_unloading = self.tankers_finished_unloading[:1]\n",
    "        else:\n",
    "            tug[\"status\"] = \"at_wharve\"\n",
    "        \"\"\"\n",
    "        else:\n",
    "            availables = len(self.list_tugs.getTugsWithStatus([\"at_port\", \"at_wharve\"]))\n",
    "            y = random.normalvariate(self.tug_mu_empty, self.tug_sigma_empty)\n",
    "            if len(self.list_tugs.getTugsWithStatus([\"at_port\"])) < availables / 2:\n",
    "                self.list_events.add(self.time+y, Events.TUG_TO_PORT_EMPTY)\n",
    "                tug[\"status\"] = \"to_port\"\n",
    "            else: \n",
    "                tug[\"status\"] = \"at_wharve\"\n",
    "        \"\"\"        \n",
    "        \n",
    "    def tugToWharveFull(self, tanker_id, tug_id):\n",
    "        tug = self.list_tugs.get(tug_id)\n",
    "        tug[\"carry\"] = None\n",
    "        tug[\"status\"] = \"at_wharve\"\n",
    "        # self.tugToPortEmpty(tug_id)\n",
    "        z = 60 * np.random.chisquare(self.wharve_freedom_degree)\n",
    "        self.list_events.add(self.time + z, Events.TANKER_UNLOADED, tanker_id)\n",
    "        logging.info(str(self.time) + \" --- \" + minutesToTime(self.time) + \": TANKER \" + str(tanker_id) + \" finished unloading\")  \n",
    "        self.tankers_finished_unloading.append(tanker_id)\n",
    "    \n",
    "    def tankerUnloaded(self, tanker_id):\n",
    "        if len(self.list_tugs.getTugsWithStatus([\"at_wharve\"])) > 0:\n",
    "            y = random.normalvariate(self.tug_mu_full, self.tug_sigma_full)\n",
    "            tug_available = self.list_tugs.getTugsWithStatus([\"at_wharve\"])[0]\n",
    "            tug_available[\"carry\"] = self.tankers_finished_unloading[0]\n",
    "            tug_available[\"status\"] = \"to_port\"\n",
    "            self.list_events.add(self.time+y, Events.TUG_TO_PORT_FULL, tanker_id, tug_available[\"id\"])\n",
    "            logging.info(\"Tug \" + str(tug_available[\"id\"]) + \" tugging tanker \" + str(tanker_id) + \" to port\")\n",
    "            w = self.list_wharves.getByUnloading(self.tankers_finished_unloading[0])\n",
    "            w[\"unloading\"] = None\n",
    "            self.tankers_finished_unloading = self.tankers_finished_unloading[:1]\n",
    "        elif len(self.list_tugs.getTugsWithStatus([\"to_port\", \"to_wharve\"])) == 0:\n",
    "            y = random.normalvariate(self.tug_mu_empty, self.tug_sigma_empty)\n",
    "            tug_available = self.list_tugs.getTugsWithStatus([\"at_port\"])[0]\n",
    "            tug_available[\"status\"] = \"to_wharve\"\n",
    "            self.list_events.add(self.time+y, Events.TUG_TO_WHARVE_EMPTY, None, tug_available[\"id\"])\n",
    "        \n",
    "        \"\"\"\n",
    "         if len(self.list_tugs.getTugsWithStatus([\"at_wharve\"])) > 0:\n",
    "            y = random.normalvariate(self.tug_mu_full, self.tug_sigma_full)\n",
    "            self.list_events.add(self.time+y, Events.TUG_TO_PORT_FULL)\n",
    "            tug_available = self.list_tugs.getTugsWithStatus([\"at_wharve\"])[0] # coger el primero\n",
    "            tug_available[\"carry\"] = self.tankers_finished_unloading[0]\n",
    "            tug_available[\"status\"] = \"to_port\"\n",
    "            logging.info(\"Tug tugging tanker \" + str(tank[\"id\"]) + \" to port\")\n",
    "            w =self.list_wharves.getByUnloading(self.tankers_finished_unloading[0])\n",
    "            w[\"unloading\"] = None\n",
    "            self.tankers_finished_unloading = self.tankers_finished_unloading[:1]\n",
    "        elif len(self.list_tugs.getTugsWithStatus([\"to_port\", \"to_wharve\"])) == 0:\n",
    "            y = random.normalvariate(self.tug_mu_empty, self.tug_sigma_empty)\n",
    "            self.list_events.add(self.time+y, Events.TUG_TO_WHARVE_EMPTY)\n",
    "            tug_available = self.list_tugs.getTugsWithStatus([\"at_port\"])[0]\n",
    "            tug_available[\"status\"] = \"to_wharve\"\n",
    "        \"\"\"\n",
    "       \n",
    "        \n",
    "        \n",
    "        \n",
    "    \"\"\"\n",
    "    def proceso_remolcador(self):\n",
    "        y = random.normalvariate(self.tug_mu_empty, self.tug_sigma_empty)\n",
    "        yy = y + random.normalvariate(self.tug_mu_full, self.tug_sigma_full)\n",
    "            \n",
    "        if self.tankers_tugs.size() < self.max_tugs:\n",
    "            if len(self.tankers_waiting_entrance) > 0 and self.tankers_wharves.size() < self.max_wharves:\n",
    "                tank_id = self.tankers_waiting_entrance[0]\n",
    "                self.tankers_waiting_entrance = self.tankers_waiting_entrance[1:]\n",
    "                \n",
    "                tank = self.list_tankers.get(tank_id)\n",
    "                if tank is not None:\n",
    "                    self.tankers_tugs.add(tank[\"id\"])\n",
    "                    self.tankers_wharves.add(tank[\"id\"])\n",
    "                    self.list_events.add(self.time + y, Events.TUG_AT_WHARVE, tank[\"id\"])\n",
    "                    \n",
    "                    logging.info(\"Tug tugging tanker \" + str(tank[\"id\"]) + \" to wharve\")\n",
    "                    \n",
    "                    tank[\"entrance_pick_by_tug_time\"] = self.time + y\n",
    "            elif len(self.tankers_finished_unloading) > 0:\n",
    "                tank_id = self.tankers_finished_unloading[0]\n",
    "                self.tankers_finished_unloading = self.tankers_finished_unloading[1:]\n",
    "                \n",
    "                tank = self.list_tankers.get(tank_id)\n",
    "                if tank is not None:\n",
    "                    self.tankers_tugs.add(tank[\"id\"])\n",
    "                    self.list_events.add(self.time + y, Events.TUG_AT_ENTRANCE, tank[\"id\"])\n",
    "                    \n",
    "                    logging.info(\"Tug tugging tanker \" + str(tank[\"id\"]) + \" to entrance\")\n",
    "                    \n",
    "                    tank[\"wharve_pick_by_tug_time\"] = self.time + y\n",
    "        \n",
    "    # Rutina para la llegada de un barco\n",
    "    def rutina_llegada_barco(self):\n",
    "        tank = self.list_tankers.add(self.time)\n",
    "        \n",
    "        logging.info(str(self.time) + \" --- \" + minutesToTime(self.time) + \": TANKER \" + str(tank[\"id\"]) + \" arrived at port\")\n",
    "        \n",
    "        # Generamos el momento de llegada del siguiente barco y lo\n",
    "        # anadimos a la lista de eventos si no hemos excedido el\n",
    "        # tiempo de simulacion\n",
    "        x = 60 * random.expovariate(getPoissonRate(self.time))\n",
    "        if self.time + x > self.max_time:\n",
    "            logging.info( \"End of tanker arrivals.\" )\n",
    "        else:    \n",
    "            self.list_events.add(self.time + x, Events.TANK_ARRIVAL)\n",
    "            \n",
    "        # Anadimos el barco a la cola de entrada\n",
    "        self.tankers_waiting_entrance.append(tank[\"id\"])\n",
    "        tank[\"arrival_time\"] = self.time\n",
    "    \n",
    "    def rutina_muelle(self, tank_id):\n",
    "        tank = self.list_tankers.get(tank_id)\n",
    "        if tank is not None:\n",
    "            logging.info(str(self.time) + \" --- \" + minutesToTime(self.time) + \": TANKER \" + str(tank[\"id\"]) + \" finished unloading\")\n",
    "\n",
    "            self.tankers_wharves.remove(tank[\"id\"])\n",
    "            self.tankers_finished_unloading.append(tank[\"id\"])\n",
    "            tank[\"wharve_unload_done_time\"] = self.time\n",
    "    \n",
    "    #Rutina para cuando un remolcador llega a la entrada\n",
    "    def rutina_remolcador_entrada(self, tank_id):\n",
    "        tank = self.list_tankers.get(tank_id)\n",
    "        if tank is not None:\n",
    "            logging.info(str(self.time) + \" --- \" + minutesToTime(self.time) + \": TANKER \" + str(tank[\"id\"]) + \" back to sea\")\n",
    "            self.tankers_tugs.remove(tank[\"id\"])\n",
    "            self.tankers_exit.append(tank[\"id\"])\n",
    "            tank[\"exit_time\"] = self.time\n",
    "        \n",
    "    #Rutina para cuando llega un remolcador a los muelles\n",
    "    def rutina_remolcador_muelle( self, tank_id):\n",
    "        tank = self.list_tankers.get(tank_id)\n",
    "        if tank is not None:\n",
    "            logging.info(str(self.time) + \" --- \" + minutesToTime(self.time) + \": TANKER \" + str(tank[\"id\"]) + \" arrived at wharve\")\n",
    "            self.tankers_tugs.remove(tank[\"id\"])\n",
    "            tank[\"wharve_arrival_time\"] = self.time\n",
    "\n",
    "            z = 60 * np.random.chisquare(self.wharve_freedom_degree)\n",
    "            self.list_events.add(self.time + z, Events.TANK_UNLOADED, tank[\"id\"])\n",
    "    \"\"\""
   ]
  },
  {
   "cell_type": "code",
   "execution_count": null,
   "metadata": {},
   "outputs": [],
   "source": [
    "def simulation(\n",
    "    log_file = \"ports.log\",\n",
    "    tug_mu_empty = TUG_MU_EMPTY, \n",
    "    tug_sigma_empty = TUG_SIGMA_EMPTY, \n",
    "    tug_mu_full = TUG_MU_FULL, \n",
    "    tug_sigma_full = TUG_SIGMA_FULL, \n",
    "    wharve_freedom_degree = WHARVE_FREEDOM_DEGREE, \n",
    "    max_tugs = MAXTUGS, \n",
    "    max_wharves = MAXWHARVES,\n",
    "    max_time = T\n",
    "):\n",
    "    # clear log\n",
    "    open(log_file, 'w').close()\n",
    "    # Setting up for a log file\n",
    "    logging.basicConfig(filename=log_file, level=logging.INFO)\n",
    "\n",
    "    simulation = Simulation(\n",
    "        tug_mu_empty = tug_mu_empty, \n",
    "        tug_sigma_empty = tug_sigma_empty, \n",
    "        tug_mu_full = tug_mu_full, \n",
    "        tug_sigma_full = tug_sigma_full, \n",
    "        wharve_freedom_degree = wharve_freedom_degree, \n",
    "        max_tugs = max_tugs, \n",
    "        max_wharves = max_wharves,\n",
    "        max_time = max_time\n",
    "    )\n",
    "    if simulation.simulate() == -1:\n",
    "        logging.error(\"Simulation failed\")\n",
    "    else:\n",
    "        logging.info(\"Simulation success\")\n",
    "        \n",
    "simulation(\"ports1020.log\", max_tugs = 10, max_wharves = 20)\n",
    "simulation(\"ports1320.log\", max_tugs = 13, max_wharves = 20)\n",
    "simulation(\"ports1025.log\", max_tugs = 10, max_wharves = 25)\n",
    "simulation(\"ports1325.log\", max_tugs = 13, max_wharves = 25)"
   ]
  },
  {
   "cell_type": "markdown",
   "metadata": {
    "slideshow": {
     "slide_type": "slide"
    }
   },
   "source": [
    "### Referencia\n",
    "\n",
    "Marsaglia, G., & Tsang, W. W. (2000). The ziggurat method for generating random variables. Journal of statistical software, 5(8), 1-7.  \n",
    "https://towardsdatascience.com/how-to-use-and-create-a-z-table-standard-normal-table-240e21f36e53 "
   ]
  },
  {
   "cell_type": "code",
   "execution_count": null,
   "metadata": {},
   "outputs": [],
   "source": []
  }
 ],
 "metadata": {
  "celltoolbar": "幻灯片",
  "kernelspec": {
   "display_name": "Python 3",
   "language": "python",
   "name": "python3"
  },
  "language_info": {
   "codemirror_mode": {
    "name": "ipython",
    "version": 3
   },
   "file_extension": ".py",
   "mimetype": "text/x-python",
   "name": "python",
   "nbconvert_exporter": "python",
   "pygments_lexer": "ipython3",
   "version": "3.7.4"
  }
 },
 "nbformat": 4,
 "nbformat_minor": 2
}
